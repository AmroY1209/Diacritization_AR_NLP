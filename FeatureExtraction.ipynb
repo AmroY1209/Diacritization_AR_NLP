{
 "cells": [
  {
   "cell_type": "markdown",
   "metadata": {},
   "source": [
    "### Feature Extraction"
   ]
  },
  {
   "cell_type": "code",
   "execution_count": 9,
   "metadata": {},
   "outputs": [],
   "source": [
    "#Imports\n",
    "import pandas as pd\n",
    "import numpy as np\n",
    "import matplotlib.pyplot as plt\n",
    "import re\n",
    "from pyarabic.araby import strip_tashkeel\n",
    "\n",
    "from nltk.tokenize import word_tokenize\n",
    "import nltk\n",
    "import qalsadi.lemmatizer \n",
    "import qalsadi.analex as qa\n",
    "\n",
    "from farasa.pos import FarasaPOSTagger \n",
    "from farasa.ner import FarasaNamedEntityRecognizer \n",
    "from farasa.diacratizer import FarasaDiacritizer \n",
    "from farasa.segmenter import FarasaSegmenter \n",
    "from farasa.stemmer import FarasaStemmer\n",
    "import pickle\n"
   ]
  },
  {
   "cell_type": "markdown",
   "metadata": {},
   "source": [
    "## Segment words feature"
   ]
  },
  {
   "cell_type": "code",
   "execution_count": 2,
   "metadata": {},
   "outputs": [],
   "source": [
    "def segment_words(words: list) -> list:\n",
    "    res = []\n",
    "    for word in words:\n",
    "        if len(word) == 1:\n",
    "            res.append('S')\n",
    "        else:\n",
    "            new_word = ''\n",
    "            new_word += 'B'\n",
    "            for i in range(1, len(word)-1):\n",
    "                new_word += 'I'\n",
    "            new_word += 'E'\n",
    "            res.append(new_word)\n",
    "    return res\n"
   ]
  },
  {
   "cell_type": "code",
   "execution_count": 3,
   "metadata": {},
   "outputs": [],
   "source": [
    "train_words_stripped = []\n",
    "\n",
    "train_data = None\n",
    "with open('./Dataset/training/train_words_stripped.txt', 'r', encoding='utf-8') as file:\n",
    "    train_data = file.readlines()\n",
    "for line in train_data:\n",
    "    train_words_stripped.append(line.strip())\n"
   ]
  },
  {
   "cell_type": "code",
   "execution_count": 5,
   "metadata": {},
   "outputs": [
    {
     "name": "stdout",
     "output_type": "stream",
     "text": [
      "['BIIE', 'BE', 'BIE', 'BIIIE', 'BIE', 'BIE', 'BIE', 'BIIIIIE', 'BIE', 'BIIE']\n",
      "['عرفة', 'ابن', 'الزركشي', 'قال', 'إلخ', 'يده', 'الأول', 'قطع', 'أو', 'قوله']\n",
      "قوله\n",
      "BIIE\n"
     ]
    }
   ],
   "source": [
    "segmented_train_words = segment_words(train_words_stripped)\n"
   ]
  },
  {
   "cell_type": "code",
   "execution_count": 7,
   "metadata": {},
   "outputs": [
    {
     "name": "stdout",
     "output_type": "stream",
     "text": [
      "['BIIE', 'BE', 'BIE', 'BIIIE', 'BIE', 'BIE', 'BIE', 'BIIIIIE', 'BIE', 'BIIE']\n",
      "['عرفة', 'ابن', 'الزركشي', 'قال', 'إلخ', 'يده', 'الأول', 'قطع', 'أو', 'قوله']\n",
      "قوله\n",
      "BIIE\n",
      "أو\n",
      "BE\n"
     ]
    }
   ],
   "source": [
    "print(segmented_train_words[:10])\n",
    "print(train_words_stripped[9::-1]) #reverse so English and Arabic align (only printing purpose)\n",
    "print(train_words_stripped[0])\n",
    "print(segmented_train_words[0])\n",
    "print(train_words_stripped[1])\n",
    "print(segmented_train_words[1])\n",
    "\n"
   ]
  },
  {
   "cell_type": "markdown",
   "metadata": {},
   "source": [
    "# Diacritics\n",
    "# {  ْ   , ّ   ,  ً   ,  َ   ,    ُ   ,  ِ    ,  ٍ   , ٌ    }\n",
    "\n",
    "# Golden\n",
    "## { َ  : 0, ً : 1, ُ : 2, ٌ : 3, ِ  : 4, ٍ  : 5, ْ : 6, ّ  : 7, ّ َ  : 8, ّ ً : 9, ّ ُ : 10, ّ ٌ : 11, ّ ِ  : 12,  ّ ٍ : 13, '': 14}"
   ]
  },
  {
   "cell_type": "code",
   "execution_count": 14,
   "metadata": {},
   "outputs": [
    {
     "name": "stdout",
     "output_type": "stream",
     "text": [
      "{'ْ', 'ّ', 'ً', 'َ', 'ُ', 'ِ', 'ٍ', 'ٌ'}\n",
      "{'َ': 0, 'ً': 1, 'ُ': 2, 'ٌ': 3, 'ِ': 4, 'ٍ': 5, 'ْ': 6, 'ّ': 7, 'َّ': 8, 'ًّ': 9, 'ُّ': 10, 'ٌّ': 11, 'ِّ': 12, 'ٍّ': 13, '': 14}\n",
      "{'ت', 'ث', 'ك', 'ح', 'ب', 'ن', 'غ', 'م', 'ص', 'إ', 'ع', 'س', 'آ', 'ف', 'خ', 'ة', 'ض', 'أ', 'ق', 'ظ', 'ج', 'ى', 'ئ', 'ؤ', 'ء', 'ذ', 'ز', 'ش', 'ا', 'ط', 'د', 'ل', 'و', 'ه', 'ر', 'ي'}\n",
      "36\n"
     ]
    }
   ],
   "source": [
    "\n",
    "with open('./pickles/diacritics.pickle', 'rb') as file:\n",
    "    diacritics = pickle.load(file)\n",
    "\n",
    "with open('./pickles/diacritic2id.pickle', 'rb') as file:\n",
    "    diacritic2id = pickle.load(file)\n",
    "\n",
    "with open('./pickles/arabic_letters.pickle', 'rb') as file:\n",
    "    arabic_letters = pickle.load(file)\n",
    "\n",
    "print(diacritics)\n",
    "print(diacritic2id)\n",
    "print(arabic_letters)\n",
    "\n",
    "print(len(arabic_letters))\n"
   ]
  },
  {
   "cell_type": "code",
   "execution_count": 15,
   "metadata": {},
   "outputs": [
    {
     "name": "stdout",
     "output_type": "stream",
     "text": [
      "['قَوْلُهُ أَوْ قَطَعَ الْأَو٤لُ يَدَهُ إلَخْ قَالَ الز٤رْكَشِي٥', 'ابْنُ عَرَفَةَ قَوْلُهُ بِلَفْظٍ يَقْتَضِيه كَإِنْكَارِ غَيْرِ حَدِيثٍ بِالْإِسْلَامِ وُجُوبَ مَا عُلِمَ وُجُوبُهُ مِنْ الد٦ينِ ضَرُورَةً كَإِلْقَاءِ مُصْحَفٍ بِقَذَرٍ وَشَد٦ زُن٤ارٍ ابْنُ عَرَفَةَ قَوْلُ ابْنِ شَاسٍ أَوْ بِفِعْلٍ يَتَضَم٤نُهُ هُوَ كَلُبْسِ الز٥ن٤ارِ وَإِلْقَاءِ الْمُصْحَفِ فِي صَرِيحِ الن٤جَاسَةِ وَالس٥جُودِ لِلص٤نَمِ وَنَحْوِ ذَلِكَ وَسِحْرٍ مُحَم٤دٌ قَوْلُ مَالِكٍ وَأَصْحَابِهِ أَن٤ الس٤احِرَ كَافِرٌ بِاَلل٤هِ تَعَالَى قَالَ مَالِكٌ هُوَ كَالز٦نْدِيقِ إذَا عَمِلَ الس٦حْرَ بِنَفْسِهِ قُتِلَ وَلَمْ يُسْتَتَبْ .', 'قَوْلُهُ لِعَدَمِ مَا تَتَعَل٤قُ إلَخْ أَيْ الْوَصِي٤ةُ قَوْلُهُ مَا مَر٤ أَيْ قُبَيْلَ قَوْلِ الْمَتْنِ لَغَتْ وَلَوْ اقْتَصَرَ عَلَى أَوْصَيْت لَهُ بِشَاةٍ أَوْ أَعْطُوهُ شَاةً وَلَا غَنَمَ لَهُ عِنْدَ الْمَوْتِ هَلْ تَبْطُلُ الْوَصِي٤ةُ أَوْ يُشْتَرَى لَهُ شَاةٌ وَيُؤْخَذُ مِنْ قَوْلِهِ الْآتِي كَمَا لَوْ لَمْ يَقُلْ مِنْ مَالِي وَلَا مِنْ غَنَمِي أَن٤هَا لَا تَبْطُلُ ، وَعِبَارَةُ الْكَنْزِ وَلَوْ لَمْ يَقُلْ مِنْ مَالِي وَلَا مِنْ غَنَمِي لَمْ يَتَعَي٤نْ غَنَمُهُ إنْ كَانَتْ انْتَهَتْ ا ه سم قَوْلُهُ فَيُعْطَى وَاحِدَةً مِنْهَا إلَخْ كَمَا لَوْ كَانَتْ مَوْجُودَةً عِنْدَ الْوَصِي٤ةِ وَالْمَوْتِ ، وَلَا يَجُوزُ أَنْ يُعْطَى وَاحِدَةً مِنْ غَيْرِ غَنَمِهِ فِي الص٥ورَتَيْنِ وَإِنْ تَرَاضَيَا ؛ لِأَن٤هُ صُلْحٌ عَلَى مَجْهُولٍ مُغْنِي وَنِهَايَةٌ قَالَ ع ش قَوْلُهُ وَاحِدَةً مِنْهَا أَيْ كَامِلَةً ، وَلَا يَجُوزُ أَنْ يُعْطَى نِصْفَيْنِ مِنْ شَاتَيْنِ ؛ لِأَن٤هُ لَا يُسَم٤ى شَاةً وَقَوْلُهُ وَلَا يَجُوزُ أَنْ يُعْطَى وَاحِدَةً مِنْ غَيْرِ غَنَمِهِ وَيَنْبَغِي أَنْ يُقَالَ مِثْلُ ذَلِكَ فِي الْأَرِق٤اءِ ا ه .', 'وَحَيَوَانٌ غَيْرُ مَوْجُودٍ .', 'فَائِدَةٌ قَالَ بَعْضُهُمْ يُؤْخَذُ مِنْ شَرْطِ تَمَامِ الْمِلْكِ عَدَمُ زَكَاةِ حُلِي٦ الْكَعْبَةِ وَالْمَسَاجِدِ مِنْ قَنَادِيلَ وَعَلَائِقَ وَصَفَائِحِ أَبْوَابٍ .', 'وَقَوْلُهُ لَزِمَتْهُ لِمَا قُلْنَا يُرِيدُ قَوْلَهُ ؛ لِأَن٤ الْجَمْعَ بَيْنَهُمَا مَشْرُوعٌ فِي حَق٦ الْآفَاقِي٦ .', 'قَوْلُهُ نَعَمْ إنْ طَل٤قَهَا قَبْلَ فَجْرِهِ وَمِثْلُهُ مَعَ الْفَجْرِ .', 'لَكِنْ قَالَ الْمَاوَرْدِي٥ وَالر٥ويَانِي٥ تَفْرِيعًا عَلَى ذَلِكَ يُعَل٦مُهُ الْأَغْلَبَ مِنْ قِرَاءَةِ الْبَلَدِ كَمَا لَوْ أَصْدَقَهَا دَرَاهِمَ ، فَإِن٤هُ يَتَعَي٤نُ غَالِبُ دَرَاهِمِ الْبَلَدِ أَيْ فَإِنْ لَمْ', 'وَلَا يَجُوزُ أَنْ يَصُومَ عَنْ بَعْضِ الْجَزَاءِ ، وَيُطْعِمَ عَنْ بَعْضٍ ، نَص٤ عَلَيْهِ ، لِأَن٤هَا كَف٤ارَةٌ وَاحِدَةٌ ، فَلَمْ يَجُزْ فِيهَا كَسَائِرِ الْكَف٤ارَاتِ .', 'لَوْ أَخَذَ ثَلَاثَةٌ أَرْضًا بِالن٦صْفِ لِيَزْرَعُوهَا بِالش٤رِكَةِ فَغَابَ أَحَدُهُمْ وَزَرَعَ اثْنَانِ بَعْضَ الْأَرْضِ بُر١ا فَحَضَرَ الث٤الِثُ ، وَزَرَعَ بَعْضَ الْأَرْضِ شَعِيرًا فَلَوْ كَانَ ذَلِكَ بِإِذْنِ كُل٦ وَاحِدٍ مِنْهُمْ فَالْبُر٥ بَيْنَهُمْ ، وَيَرْجِعُ رَب٥ الْبُر٦ بِثُلُثِ الْبُر٦ عَلَى الث٤الِثِ ، وَالش٤عِيرُ بَيْنَهُمْ أَيْضًا أَوْ يَرْجِعُ هُوَ أَيْضًا عَلَيْهِمَا بِثُلُثَيْ الش٤عِيرِ ال٤ذِي بَذَرَ بَعْدَ دَفْعِ نَصِيبِ رَب٦ الْأَرْضِ وَلَوْ فَعَلُوا بِلَا إذْنٍ فَالْبُر٥ ثُلُثُهُ لِرَب٦ الْأَرْضِ وَثُلُثَاهُ لَهُمَا ، وَيَغْرَمَانِ نُقْصَانَ ثُلُثِ الْأَرْضِ ، وَأَم٤ا رَب٥ الش٤عِيرِ فَخَمْسَةُ أَسْدَاسِهِ لَهُ ، وَلِرَب٦ الْأَرْضِ سُدُسُهُ لِأَن٤ ثُلُثَيْ الش٤عِيرِ زُرِعَ غَصْبًا فَهُوَ لَهُ ، وَثُلُثُهُ زُرِعَ بِحَق٣ ، وَعَلَيْهِ نُقْصَانُ الْأَرْضِ فِي قَدْرِ ثُلُثَيْ ذَلِكَ ، كَذَا فِي الْفُصُولَيْنِ مِنْ أَحْكَامِ الْمُزَارَعَةِ .']\n"
     ]
    }
   ],
   "source": [
    "#this function is used to get a dictionary of letters and a binary value if a certain dicritic appears after it\n",
    "#length of letters is 36 (28 letters + 8 special characters) and length of dicritics is 14\n",
    "#the function returns a dictionary of letters and a list of 14 binary values\n",
    "#utf-8 encoding for letters is used\n",
    "#for double diacritics we will checkk for arabic numerals \n",
    "#١ is shadda + tanween fatha\n",
    "#٢ is shadda + tanween damma\n",
    "#٣ is shadda + tanween kasra\n",
    "#٤ is shadda + fatha\n",
    "#٥ is shadda + damma\n",
    "#٦ is shadda + kasra\n",
    "\n",
    "#diacritic2id has 15 keys and values from 0 to 14 of the diacritics + \"\" (none)\n",
    "#arabic_letters has 36 keys and values from 0 to 35 of the letters\n",
    "\n",
    "with open('./Dataset/training/train_words_replaced.txt', 'r', encoding='utf-8') as file:\n",
    "    train_replace = file.readlines()\n",
    "list_of_words = []\n",
    "for sentence in train_replace:\n",
    "    list_of_words.append(sentence.strip())\n",
    "\n",
    "def get_letter_diacritics_appearance(list_of_words: list) -> dict:\n",
    "    dictionary = {}\n",
    "    for word in list_of_words:\n",
    "        for i in range(len(word)):\n",
    "            if word[i] in arabic_letters:\n",
    "                if word[i] not in dictionary:\n",
    "                    dictionary[word[i]] = [0 for i in range(15)]\n",
    "                if (i+1 < len(word) and word[i+1] in diacritics) and (i+2 < len(word) and word[i+2] not in diacritics):\n",
    "                    dictionary[word[i]][diacritic2id[word[i+1]]] = 1\n",
    "                elif i+2 < len(word) and word[i+2] in diacritics:\n",
    "                    if word[i+2] == '١':\n",
    "                        dictionary[word[i]][9] = 1\n",
    "                    elif word[i+2] == '٢':\n",
    "                        dictionary[word[i]][11] = 1\n",
    "                    elif word[i+2] == '٣':\n",
    "                        dictionary[word[i]][13] = 1\n",
    "                    elif word[i+2] == '٤':\n",
    "                        dictionary[word[i]][8] = 1\n",
    "                    elif word[i+2] == '٥':\n",
    "                        dictionary[word[i]][10] = 1\n",
    "                    elif word[i+2] == '٦':\n",
    "                        dictionary[word[i]][12] = 1\n",
    "                    else:\n",
    "                        print(\"love\")\n",
    "\n",
    "\n",
    "                \n",
    "\n",
    "             \n",
    "        \n",
    "\n",
    "    \n",
    "    \n",
    "    "
   ]
  },
  {
   "cell_type": "code",
   "execution_count": null,
   "metadata": {},
   "outputs": [],
   "source": []
  }
 ],
 "metadata": {
  "kernelspec": {
   "display_name": "base",
   "language": "python",
   "name": "python3"
  },
  "language_info": {
   "codemirror_mode": {
    "name": "ipython",
    "version": 3
   },
   "file_extension": ".py",
   "mimetype": "text/x-python",
   "name": "python",
   "nbconvert_exporter": "python",
   "pygments_lexer": "ipython3",
   "version": "3.11.5"
  }
 },
 "nbformat": 4,
 "nbformat_minor": 2
}
