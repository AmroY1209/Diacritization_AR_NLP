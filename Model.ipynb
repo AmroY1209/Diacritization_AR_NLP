{
 "cells": [
  {
   "cell_type": "code",
   "execution_count": 1,
   "metadata": {},
   "outputs": [
    {
     "name": "stderr",
     "output_type": "stream",
     "text": [
      "e:\\Anaconda\\lib\\site-packages\\scipy\\__init__.py:146: UserWarning: A NumPy version >=1.16.5 and <1.23.0 is required for this version of SciPy (detected version 1.26.2\n",
      "  warnings.warn(f\"A NumPy version >={np_minversion} and <{np_maxversion}\"\n"
     ]
    }
   ],
   "source": [
    "import torch\n",
    "\n",
    "import numpy as np\n",
    "\n",
    "from tqdm import tqdm\n",
    "\n",
    "from torch import nn\n",
    "\n",
    "# Encodes categorical labels into numerical format (used for label preprocessing)\n",
    "from sklearn.preprocessing import LabelEncoder\n",
    "\n",
    "# Calculates the accuracy of a classification model (used for model evaluation)\n",
    "from sklearn.metrics import accuracy_score\n",
    "\n",
    "# Defines a custom dataset class for PyTorch (used for handling data)\n",
    "import torch.utils.data\n",
    "\n",
    "# Creates a DataLoader for efficient batch processing in PyTorch (used for data loading)\n",
    "from torch.utils.data import DataLoader\n",
    "\n",
    "# Splits a dataset into training and validation sets (used for data splitting)\n",
    "from torch.utils.data import random_split\n",
    "\n",
    "# Represents a multi-dimensional matrix in PyTorch (used for tensor manipulation)\n",
    "from torch import Tensor\n",
    "\n",
    "# Implements a linear layer in a neural network (used for defining neural network architecture)\n",
    "from torch.nn import Linear\n",
    "\n",
    "# Applies rectified linear unit (ReLU) activation function (used for introducing non-linearity)\n",
    "from torch.nn import ReLU\n",
    "\n",
    "# Applies sigmoid activation function (used for binary classification output)\n",
    "from torch.nn import Sigmoid\n",
    "\n",
    "# Base class for all neural network modules in PyTorch (used for creating custom models)\n",
    "from torch.nn import Module\n",
    "\n",
    "# Stochastic Gradient Descent optimizer (used for model optimization during training)\n",
    "from torch.optim import SGD\n",
    "\n",
    "# Binary Cross Entropy Loss function (used for binary classification problems)\n",
    "from torch.nn import BCELoss\n",
    "\n",
    "# Initializes weights using Kaiming uniform initialization (used for weight initialization)\n",
    "from torch.nn.init import kaiming_uniform_\n",
    "\n",
    "# Initializes weights using Xavier (Glorot) uniform initialization (used for weight initialization)\n",
    "from torch.nn.init import xavier_uniform_\n",
    "\n",
    "from torch.nn.utils.rnn import pad_sequence"
   ]
  },
  {
   "cell_type": "code",
   "execution_count": 2,
   "metadata": {},
   "outputs": [],
   "source": [
    "import pickle\n",
    "with open('./pickles/word_sequences.pkl', 'rb') as file:\n",
    "    word_sequences = pickle.load(file)\n",
    "\n",
    "with open('./pickles/char_sequences_without_tashkeel.pkl', 'rb') as file:\n",
    "    char_sequences = pickle.load(file)\n",
    "\n",
    "with open('./pickles/tashkeel_sequences.pkl', 'rb') as file:\n",
    "    labels = pickle.load(file)\n",
    "\n",
    "with open('./pickles/val_word_sequences.pkl', 'rb') as file:\n",
    "    val_word_sequences = pickle.load(file)\n",
    "\n",
    "with open('./pickles/val_char_sequences_without_tashkeel.pkl', 'rb') as file:\n",
    "    val_char_sequences = pickle.load(file)\n",
    "\n",
    "with open('./pickles/val_tashkeel_sequences.pkl', 'rb') as file:\n",
    "    val_labels = pickle.load(file)\n",
    "\n",
    "with open('./pickles/sentence_diacritics_appearance_sequences.pickle', 'rb') as file:\n",
    "    test_sentences_diacritics_sequences = pickle.load(file)\n"
   ]
  },
  {
   "cell_type": "code",
   "execution_count": 3,
   "metadata": {},
   "outputs": [
    {
     "name": "stdout",
     "output_type": "stream",
     "text": [
      "50000\n",
      "7183\n",
      "7183\n",
      "7183\n"
     ]
    }
   ],
   "source": [
    "print(len(word_sequences))\n",
    "print(len(char_sequences[1]))\n",
    "print(len(labels[1]))\n",
    "print(len(test_sentences_diacritics_sequences[0]))"
   ]
  },
  {
   "cell_type": "markdown",
   "metadata": {},
   "source": [
    "# Utility functions"
   ]
  },
  {
   "cell_type": "code",
   "execution_count": 4,
   "metadata": {},
   "outputs": [],
   "source": [
    "def concatenate_characters(characters):\n",
    "    # Create a tensor of zeros with the same shape as the last subsequence\n",
    "    zeros_tensor = torch.zeros_like(characters[:, 0:1, :])\n",
    "\n",
    "    # Concatenate it to the original tensor along the second dimension\n",
    "    padded_x = torch.cat((characters, zeros_tensor), dim=1)\n",
    "\n",
    "    # Now, padded_x will have zeros padded to the last subsequence\n",
    "\n",
    "    temp1 = padded_x[:, :-1, :]\n",
    "    temp2 = padded_x[:, 1:, :]\n",
    "\n",
    "    # Concatenate along the last dimension\n",
    "    concatenated_characters = torch.cat((temp1, temp2), dim=-1)\n",
    "\n",
    "    return concatenated_characters\n",
    "\n",
    "def concatenate_characters2(characters):\n",
    "    # Create a tensor of zeros with the same shape as the last subsequence\n",
    "    zeros_tensor = torch.zeros_like(characters[:, 0:1])\n",
    "\n",
    "    # Concatenate it to the original tensor along the second dimension\n",
    "    padded_x = torch.cat((characters, zeros_tensor), dim=1)\n",
    "\n",
    "    # Now, padded_x will have zeros padded to the last subsequence\n",
    "\n",
    "    temp1 = padded_x[:, :-1]\n",
    "    temp2 = padded_x[:, 1:]\n",
    "\n",
    "    # Concatenate along the last dimension\n",
    "    concatenated_characters = torch.cat((temp1, temp2), dim=-1)\n",
    "\n",
    "    return concatenated_characters\n",
    "\n",
    "def concatenate_tensors_elementwise(tensor1, tensor2):\n",
    "    result = torch.cat((tensor1, tensor2), dim=-1)\n",
    "    return result\n",
    "\n",
    "\n",
    "def pad_list(list, max_len, val):\n",
    "    for i in range(len(list)):\n",
    "        if len(list[i]) < max_len:\n",
    "            for j in range(max_len - len(list[i])):\n",
    "                list[i].append(val)\n",
    "\n",
    "    return list"
   ]
  },
  {
   "cell_type": "code",
   "execution_count": 6,
   "metadata": {},
   "outputs": [],
   "source": [
    "# dataset definition\n",
    "# A custom Dataset class must implement three functions: __init__, __len__, and __getitem__.\n",
    "class Dataset(torch.utils.data.Dataset):\n",
    "    # load the dataset\n",
    "    # The __init__ function is run once when instantiating the Dataset object\n",
    "    def __init__(self, char_sequences, labels, word_sequences, diacritics_sequence):\n",
    "        \n",
    "        self.x = torch.tensor(char_sequences)\n",
    "\n",
    "        self.y = torch.tensor(labels)\n",
    "\n",
    "        self.word = torch.tensor(word_sequences)\n",
    "\n",
    "        self.diacritics_sequence = torch.tensor(diacritics_sequence)\n",
    "\n",
    "\n",
    "    # number of rows in the dataset\n",
    "    # The __len__ function returns the number of samples in our dataset.\n",
    "    def __len__(self):\n",
    "        return len(self.x)\n",
    "\n",
    "    def __getitem__(self, idx):\n",
    "        return self.x[idx], self.y[idx], self.word[idx], self.diacritics_sequence[idx]\n",
    "\n",
    "    # get indexes for train and test rows\n",
    "    def get_splits(self, n_test=0.33):\n",
    "        # determine sizes\n",
    "        test_size = round(n_test * len(self.x))\n",
    "        train_size = len(self.x) - test_size\n",
    "        # calculate the split\n",
    "        return random_split(self, [train_size, test_size])\n",
    "\n",
    "\n",
    "# # prepare the dataset\n",
    "# def prepare_data():\n",
    "#     # load the dataset\n",
    "#     dataset = CSVDataset()\n",
    "#     # calculate split\n",
    "#     train, test = dataset.get_splits()\n",
    "#     # prepare data loaders\n",
    "#     # The Dataset retrieves our dataset’s features and labels one sample at a time.\n",
    "#     # While training a model, we typically want to pass samples in “minibatches”,\n",
    "#     # reshuffle the data at every epoch to reduce model overfitting,\n",
    "#     train_dl = DataLoader(train, batch_size=32, shuffle=True)\n",
    "#     test_dl = DataLoader(test, batch_size=1024, shuffle=False)\n",
    "#     return dataset.encoding_mapping, train_dl, test_dl"
   ]
  },
  {
   "cell_type": "code",
   "execution_count": 7,
   "metadata": {},
   "outputs": [
    {
     "name": "stdout",
     "output_type": "stream",
     "text": [
      "7183\n",
      "7183\n",
      "torch.Size([64, 7183]) torch.Size([64, 7183]) torch.Size([64, 1419]) torch.Size([64, 7183]) torch.Size([64, 7183]) torch.Size([64, 7183]) torch.Size([64, 1419]) torch.Size([64, 7183])\n",
      "tensor([ 6, 17,  4,  ...,  0,  0,  0], dtype=torch.int32) \n",
      " tensor([3, 3, 3,  ..., 0, 0, 0], dtype=torch.int32)\n"
     ]
    }
   ],
   "source": [
    "#convert labels to numpy array\n",
    "print(len(labels[3]))\n",
    "print(len(char_sequences[3]))\n",
    "train_ds = Dataset(char_sequences, labels, word_sequences, test_sentences_diacritics_sequences)\n",
    "train_dl = torch.utils.data.DataLoader(train_ds, batch_size=64, shuffle=True)\n",
    "\n",
    "dg = iter(train_dl)\n",
    "X1, Y1, z1, d1 = next(dg)\n",
    "X2, Y2, z2, d2 = next(dg)\n",
    "print(Y1.shape, X1.shape, z1.shape, d1.shape, Y2.shape, X2.shape, z2.shape, d2.shape)\n",
    "print(X1[0][:], \"\\n\", Y1[0][:])"
   ]
  },
  {
   "cell_type": "markdown",
   "metadata": {},
   "source": [
    "MODEL"
   ]
  },
  {
   "cell_type": "code",
   "execution_count": 9,
   "metadata": {},
   "outputs": [],
   "source": [
    "class Char_model(nn.Module):\n",
    "  def __init__(self, vocab_size=42, embedding_dim=50, hidden_size=50, n_classes=17):\n",
    "    \"\"\"\n",
    "    The constructor of our NER model\n",
    "    Inputs:\n",
    "    - vacab_size: the number of unique words\n",
    "    - embedding_dim: the embedding dimension\n",
    "    - n_classes: the number of final classes (tags)\n",
    "\n",
    "    embedding_dim here: 50 for char embedding + 50 for following char embedding = 100\n",
    "    \"\"\"\n",
    "\n",
    "    super(Char_model, self).__init__()\n",
    "\n",
    "    input_len = 2*embedding_dim + 15\n",
    "    ####################### TODO: Create the layers of your model #######################################\n",
    "    # (1) Create the embedding layer\n",
    "    self.embedding_char = nn.Embedding(vocab_size, embedding_dim)\n",
    "    self.embedding_diacritics = nn.Embedding(14, 15)\n",
    "\n",
    "    # (2) Create an LSTM layer with hidden size = hidden_size and batch_first = True\n",
    "    self.lstm = nn.LSTM(input_len, hidden_size, batch_first=True)\n",
    "    # batch_first makes the input and output tensors to be of shape (batch_size, seq_length, hidden_size)\n",
    "\n",
    "    # (3) Create a linear layer\n",
    "    self.linear = nn.Linear(hidden_size, n_classes)\n",
    "\n",
    "    #####################################################################################################\n",
    "\n",
    "  def forward(self, sentences, diacritics_list,h_0=None, c_0=None):\n",
    "    \"\"\"\n",
    "    This function does the forward pass of our model\n",
    "    Inputs:\n",
    "    - sentences: tensor of shape (batch_size, max_length)\n",
    "\n",
    "    Returns:\n",
    "    - final_output: tensor of shape (batch_size, max_length, n_classes)\n",
    "    \"\"\"\n",
    "\n",
    "    final_output = None\n",
    "    #############################################################\n",
    "    sentences_embedded = self.embedding_char(sentences) \n",
    "    diacritics_embedded = self.embedding_diacritics(diacritics_list)\n",
    "    \n",
    "    sentences_embedded = concatenate_characters(sentences_embedded) #feature 1: concatenate characters\n",
    "    sentences_embedded = concatenate_tensors_elementwise(sentences_embedded, diacritics_embedded) #feature 2: concatenate diacritics seen before\n",
    "    \n",
    "    #check if h_0 and c_0 are provided or not\n",
    "    if h_0 is None or c_0 is None:\n",
    "      final_output, (h_0, c_0) = self.lstm(sentences_embedded)\n",
    "    else:\n",
    "      final_output, _ = self.lstm(sentences_embedded, (h_0, c_0)) \n",
    "      \n",
    "    final_output = self.linear(final_output)  \n",
    "\n",
    "\n",
    "    ############################################################\n",
    "    return final_output"
   ]
  },
  {
   "cell_type": "code",
   "execution_count": 10,
   "metadata": {},
   "outputs": [],
   "source": [
    "class Word_model(nn.Module):\n",
    "  def __init__(self, vocab_size=2093761, embedding_dim=50, hidden_size=50, n_classes=17):\n",
    "    \"\"\"\n",
    "    The constructor of our NER model\n",
    "    Inputs:\n",
    "    - vacab_size: the number of unique words\n",
    "    - embedding_dim: the embedding dimension\n",
    "    - n_classes: the number of final classes (tags)\n",
    "    \"\"\"\n",
    "    super(Word_model, self).__init__()\n",
    "    ####################### TODO: Create the layers of your model #######################################\n",
    "    # (1) Create the embedding layer\n",
    "    self.embedding = nn.Embedding(vocab_size, embedding_dim)\n",
    "\n",
    "    # (2) Create an LSTM layer with hidden size = hidden_size and batch_first = True\n",
    "    self.rnn = nn.RNN(hidden_size, hidden_size, batch_first=True)\n",
    "    # batch_first makes the input and output tensors to be of shape (batch_size, seq_length, hidden_size)\n",
    "\n",
    "    #####################################################################################################\n",
    "\n",
    "  def forward(self, sentences):\n",
    "    \"\"\"\n",
    "    This function does the forward pass of our model\n",
    "    Inputs:\n",
    "    - sentences: tensor of shape (batch_size, max_length)\n",
    "\n",
    "    Returns:\n",
    "    - final_output: tensor of shape (batch_size, max_length, n_classes)\n",
    "    \"\"\"\n",
    "\n",
    "    final_output = None\n",
    "    ######################### TODO: implement the forward pass ####################################\n",
    "    final_output = self.embedding(sentences) \n",
    "    final_output, h = self.rnn(final_output)   \n",
    "\n",
    "    ###############################################################################################\n",
    "    return final_output, h"
   ]
  },
  {
   "cell_type": "code",
   "execution_count": 11,
   "metadata": {},
   "outputs": [
    {
     "name": "stdout",
     "output_type": "stream",
     "text": [
      "Char_model(\n",
      "  (embedding_char): Embedding(42, 50)\n",
      "  (embedding_diacritics): Embedding(14, 15)\n",
      "  (lstm): LSTM(115, 50, batch_first=True)\n",
      "  (linear): Linear(in_features=50, out_features=17, bias=True)\n",
      ")\n",
      "Word_model(\n",
      "  (embedding): Embedding(2093761, 50)\n",
      "  (rnn): RNN(50, 50, batch_first=True)\n",
      ")\n"
     ]
    }
   ],
   "source": [
    "lstm_model = Char_model()\n",
    "word_model = Word_model()\n",
    "print(lstm_model)\n",
    "print(word_model)"
   ]
  },
  {
   "cell_type": "markdown",
   "metadata": {},
   "source": [
    "# Training"
   ]
  },
  {
   "cell_type": "code",
   "execution_count": 12,
   "metadata": {},
   "outputs": [],
   "source": [
    "def train(lstm_model, context_model, train_dataset, batch_size=128, epochs=5, learning_rate=0.01):\n",
    "  \"\"\"\n",
    "  This function implements the training logic\n",
    "  Inputs:\n",
    "  - model: the model ot be trained\n",
    "  - train_dataset: the training set of type NERDataset\n",
    "  - batch_size: integer represents the number of examples per step\n",
    "  - epochs: integer represents the total number of epochs (full training pass)\n",
    "  - learning_rate: the learning rate to be used by the optimizer\n",
    "  \"\"\"\n",
    "\n",
    "  # (1) create the dataloader of the training set (make the shuffle=True)\n",
    "  train_dataloader = torch.utils.data.DataLoader(train_dataset, batch_size=batch_size, shuffle=True)\n",
    "\n",
    "  # (2) make the criterion cross entropy loss\n",
    "  criterion = nn.CrossEntropyLoss()\n",
    "\n",
    "  # (3) create the optimizer (Adam)\n",
    "  optimizer = torch.optim.Adam(list(lstm_model.parameters()) + list(context_model.parameters()), lr=learning_rate)\n",
    "  # GPU configuration\n",
    "  use_cuda = torch.cuda.is_available()\n",
    "  device = torch.device(\"cuda\" if use_cuda else \"cpu\")\n",
    "  if use_cuda:\n",
    "    lstm_model = lstm_model.cuda()\n",
    "    context_model = context_model.cuda()\n",
    "    criterion = criterion.cuda()\n",
    "  # device=\"cpu\"\n",
    "  for epoch_num in range(epochs):\n",
    "    total_acc_train = 0\n",
    "    total_loss_train = 0\n",
    "\n",
    "    for train_input, train_label, train_context, train_diacritic in tqdm(train_dataloader):\n",
    "      \n",
    "\n",
    "      # (4) move the train input to the device\n",
    "      train_label = train_label.long().to(device)\n",
    "\n",
    "      # (5) move the train label to the device\n",
    "      train_input = train_input.long().to(device)\n",
    "\n",
    "      train_context = train_context.long().to(device)\n",
    "\n",
    "      train_diacritic = train_diacritic.long().to(device)\n",
    "\n",
    "      # (6) do the forward pass\n",
    "      # context, h_0 = context_model(train_context)\n",
    "      # c_0 = torch.zeros(context.shape[0], 1, context.shape[2])\n",
    "      # h_0 = torch.transpose(h_0, 0, 1)\n",
    "      #h_0 = h_0.permute(1, 0, 2)\n",
    "      #print(h_0.shape)\n",
    "      print(train_input.shape)\n",
    "      print(train_diacritic.shape)\n",
    "      output = lstm_model(train_input, train_diacritic)\n",
    "      \n",
    "      # (7) loss calculation (you need to think in this part how to calculate the loss correctly)\n",
    "      batch_loss = criterion(output.reshape(-1, 17), train_label.reshape(-1))\n",
    "  \n",
    "      # (8) append the batch loss to the total_loss_train\n",
    "      total_loss_train += batch_loss.item()\n",
    "      \n",
    "      # (9) calculate the batch accuracy (just add the number of correct predictions)\n",
    "      acc = (output.argmax(dim=2) == train_label).sum().item()\n",
    "      total_acc_train += acc\n",
    "\n",
    "      # (10) zero your gradients\n",
    "      optimizer.zero_grad()\n",
    "      \n",
    "      # (11) do the backward pass\n",
    "      batch_loss.backward()\n",
    "\n",
    "      # (12) update the weights with your optimizer\n",
    "      optimizer.step()\n",
    "      \n",
    "    # epoch loss\n",
    "    epoch_loss = total_loss_train / len(train_dataset)\n",
    "\n",
    "    # (13) calculate the accuracy\n",
    "    epoch_acc = total_acc_train / (len(train_dataset) * len(train_dataset[0][0]))\n",
    "    # ba2sem 3la 3adad el kalemat fy kol el gomal \n",
    "    # kol gomla asln fyha 104 kelma, fa badrab dh fy 3adad el gomal bs\n",
    "\n",
    "    print(\n",
    "        f'Epochs: {epoch_num + 1} | Train Loss: {epoch_loss} \\\n",
    "        | Train Accuracy: {epoch_acc}\\n')\n",
    "\n",
    "  ##############################################################################################################"
   ]
  },
  {
   "cell_type": "code",
   "execution_count": 14,
   "metadata": {},
   "outputs": [
    {
     "name": "stderr",
     "output_type": "stream",
     "text": [
      "  0%|          | 0/391 [00:00<?, ?it/s]"
     ]
    },
    {
     "name": "stdout",
     "output_type": "stream",
     "text": [
      "torch.Size([128, 7183])\n",
      "torch.Size([128, 7183])\n"
     ]
    },
    {
     "name": "stderr",
     "output_type": "stream",
     "text": [
      "  0%|          | 0/391 [00:02<?, ?it/s]\n"
     ]
    },
    {
     "ename": "RuntimeError",
     "evalue": "Tensors must have same number of dimensions: got 3 and 2",
     "output_type": "error",
     "traceback": [
      "\u001b[1;31m---------------------------------------------------------------------------\u001b[0m",
      "\u001b[1;31mRuntimeError\u001b[0m                              Traceback (most recent call last)",
      "Cell \u001b[1;32mIn[14], line 2\u001b[0m\n\u001b[0;32m      1\u001b[0m train_dataset \u001b[38;5;241m=\u001b[39m Dataset(char_sequences, labels, word_sequences, test_sentences_diacritics_sequences)\n\u001b[1;32m----> 2\u001b[0m \u001b[43mtrain\u001b[49m\u001b[43m(\u001b[49m\u001b[43mlstm_model\u001b[49m\u001b[43m,\u001b[49m\u001b[43m \u001b[49m\u001b[43mword_model\u001b[49m\u001b[43m,\u001b[49m\u001b[43m \u001b[49m\u001b[43mtrain_dataset\u001b[49m\u001b[43m)\u001b[49m\n",
      "Cell \u001b[1;32mIn[12], line 53\u001b[0m, in \u001b[0;36mtrain\u001b[1;34m(lstm_model, context_model, train_dataset, batch_size, epochs, learning_rate)\u001b[0m\n\u001b[0;32m     51\u001b[0m \u001b[38;5;28mprint\u001b[39m(train_input\u001b[38;5;241m.\u001b[39mshape)\n\u001b[0;32m     52\u001b[0m \u001b[38;5;28mprint\u001b[39m(train_diacritic\u001b[38;5;241m.\u001b[39mshape)\n\u001b[1;32m---> 53\u001b[0m output \u001b[38;5;241m=\u001b[39m \u001b[43mlstm_model\u001b[49m\u001b[43m(\u001b[49m\u001b[43mtrain_input\u001b[49m\u001b[43m,\u001b[49m\u001b[43m \u001b[49m\u001b[43mtrain_diacritic\u001b[49m\u001b[43m)\u001b[49m\n\u001b[0;32m     55\u001b[0m \u001b[38;5;66;03m# (7) loss calculation (you need to think in this part how to calculate the loss correctly)\u001b[39;00m\n\u001b[0;32m     56\u001b[0m batch_loss \u001b[38;5;241m=\u001b[39m criterion(output\u001b[38;5;241m.\u001b[39mreshape(\u001b[38;5;241m-\u001b[39m\u001b[38;5;241m1\u001b[39m, \u001b[38;5;241m17\u001b[39m), train_label\u001b[38;5;241m.\u001b[39mreshape(\u001b[38;5;241m-\u001b[39m\u001b[38;5;241m1\u001b[39m))\n",
      "File \u001b[1;32me:\\Anaconda\\lib\\site-packages\\torch\\nn\\modules\\module.py:1518\u001b[0m, in \u001b[0;36mModule._wrapped_call_impl\u001b[1;34m(self, *args, **kwargs)\u001b[0m\n\u001b[0;32m   1516\u001b[0m     \u001b[38;5;28;01mreturn\u001b[39;00m \u001b[38;5;28mself\u001b[39m\u001b[38;5;241m.\u001b[39m_compiled_call_impl(\u001b[38;5;241m*\u001b[39margs, \u001b[38;5;241m*\u001b[39m\u001b[38;5;241m*\u001b[39mkwargs)  \u001b[38;5;66;03m# type: ignore[misc]\u001b[39;00m\n\u001b[0;32m   1517\u001b[0m \u001b[38;5;28;01melse\u001b[39;00m:\n\u001b[1;32m-> 1518\u001b[0m     \u001b[38;5;28;01mreturn\u001b[39;00m \u001b[38;5;28mself\u001b[39m\u001b[38;5;241m.\u001b[39m_call_impl(\u001b[38;5;241m*\u001b[39margs, \u001b[38;5;241m*\u001b[39m\u001b[38;5;241m*\u001b[39mkwargs)\n",
      "File \u001b[1;32me:\\Anaconda\\lib\\site-packages\\torch\\nn\\modules\\module.py:1527\u001b[0m, in \u001b[0;36mModule._call_impl\u001b[1;34m(self, *args, **kwargs)\u001b[0m\n\u001b[0;32m   1522\u001b[0m \u001b[38;5;66;03m# If we don't have any hooks, we want to skip the rest of the logic in\u001b[39;00m\n\u001b[0;32m   1523\u001b[0m \u001b[38;5;66;03m# this function, and just call forward.\u001b[39;00m\n\u001b[0;32m   1524\u001b[0m \u001b[38;5;28;01mif\u001b[39;00m \u001b[38;5;129;01mnot\u001b[39;00m (\u001b[38;5;28mself\u001b[39m\u001b[38;5;241m.\u001b[39m_backward_hooks \u001b[38;5;129;01mor\u001b[39;00m \u001b[38;5;28mself\u001b[39m\u001b[38;5;241m.\u001b[39m_backward_pre_hooks \u001b[38;5;129;01mor\u001b[39;00m \u001b[38;5;28mself\u001b[39m\u001b[38;5;241m.\u001b[39m_forward_hooks \u001b[38;5;129;01mor\u001b[39;00m \u001b[38;5;28mself\u001b[39m\u001b[38;5;241m.\u001b[39m_forward_pre_hooks\n\u001b[0;32m   1525\u001b[0m         \u001b[38;5;129;01mor\u001b[39;00m _global_backward_pre_hooks \u001b[38;5;129;01mor\u001b[39;00m _global_backward_hooks\n\u001b[0;32m   1526\u001b[0m         \u001b[38;5;129;01mor\u001b[39;00m _global_forward_hooks \u001b[38;5;129;01mor\u001b[39;00m _global_forward_pre_hooks):\n\u001b[1;32m-> 1527\u001b[0m     \u001b[38;5;28;01mreturn\u001b[39;00m forward_call(\u001b[38;5;241m*\u001b[39margs, \u001b[38;5;241m*\u001b[39m\u001b[38;5;241m*\u001b[39mkwargs)\n\u001b[0;32m   1529\u001b[0m \u001b[38;5;28;01mtry\u001b[39;00m:\n\u001b[0;32m   1530\u001b[0m     result \u001b[38;5;241m=\u001b[39m \u001b[38;5;28;01mNone\u001b[39;00m\n",
      "Cell \u001b[1;32mIn[9], line 46\u001b[0m, in \u001b[0;36mChar_model.forward\u001b[1;34m(self, sentences, diacritics_list, h_0, c_0)\u001b[0m\n\u001b[0;32m     43\u001b[0m diacritics_embedded \u001b[38;5;241m=\u001b[39m \u001b[38;5;28mself\u001b[39m\u001b[38;5;241m.\u001b[39membedding_diacritics(diacritics_list)\n\u001b[0;32m     45\u001b[0m sentences_embedded \u001b[38;5;241m=\u001b[39m concatenate_characters(sentences_embedded) \u001b[38;5;66;03m#feature 1: concatenate characters\u001b[39;00m\n\u001b[1;32m---> 46\u001b[0m sentences_embedded \u001b[38;5;241m=\u001b[39m \u001b[43mconcatenate_tensors_elementwise\u001b[49m\u001b[43m(\u001b[49m\u001b[43msentences_embedded\u001b[49m\u001b[43m,\u001b[49m\u001b[43m \u001b[49m\u001b[43mdiacritics_list\u001b[49m\u001b[43m)\u001b[49m \u001b[38;5;66;03m#feature 2: concatenate diacritics seen before\u001b[39;00m\n\u001b[0;32m     48\u001b[0m \u001b[38;5;66;03m#check if h_0 and c_0 are provided or not\u001b[39;00m\n\u001b[0;32m     49\u001b[0m \u001b[38;5;28;01mif\u001b[39;00m h_0 \u001b[38;5;129;01mis\u001b[39;00m \u001b[38;5;28;01mNone\u001b[39;00m \u001b[38;5;129;01mor\u001b[39;00m c_0 \u001b[38;5;129;01mis\u001b[39;00m \u001b[38;5;28;01mNone\u001b[39;00m:\n",
      "Cell \u001b[1;32mIn[4], line 36\u001b[0m, in \u001b[0;36mconcatenate_tensors_elementwise\u001b[1;34m(tensor1, tensor2)\u001b[0m\n\u001b[0;32m     35\u001b[0m \u001b[38;5;28;01mdef\u001b[39;00m \u001b[38;5;21mconcatenate_tensors_elementwise\u001b[39m(tensor1, tensor2):\n\u001b[1;32m---> 36\u001b[0m     result \u001b[38;5;241m=\u001b[39m \u001b[43mtorch\u001b[49m\u001b[38;5;241;43m.\u001b[39;49m\u001b[43mcat\u001b[49m\u001b[43m(\u001b[49m\u001b[43m(\u001b[49m\u001b[43mtensor1\u001b[49m\u001b[43m,\u001b[49m\u001b[43m \u001b[49m\u001b[43mtensor2\u001b[49m\u001b[43m)\u001b[49m\u001b[43m,\u001b[49m\u001b[43m \u001b[49m\u001b[43mdim\u001b[49m\u001b[38;5;241;43m=\u001b[39;49m\u001b[38;5;241;43m-\u001b[39;49m\u001b[38;5;241;43m1\u001b[39;49m\u001b[43m)\u001b[49m\n\u001b[0;32m     37\u001b[0m     \u001b[38;5;28;01mreturn\u001b[39;00m result\n",
      "\u001b[1;31mRuntimeError\u001b[0m: Tensors must have same number of dimensions: got 3 and 2"
     ]
    }
   ],
   "source": [
    "train_dataset = Dataset(char_sequences, labels, word_sequences, test_sentences_diacritics_sequences)\n",
    "train(lstm_model, word_model, train_dataset)"
   ]
  },
  {
   "cell_type": "code",
   "execution_count": 5,
   "metadata": {},
   "outputs": [
    {
     "name": "stdout",
     "output_type": "stream",
     "text": [
      "tensor([[[ 1,  2,  3],\n",
      "         [ 4,  5,  6],\n",
      "         [66, 55, 77],\n",
      "         [ 0,  0,  0]],\n",
      "\n",
      "        [[ 7,  8,  9],\n",
      "         [10, 11, 12],\n",
      "         [13, 14, 15],\n",
      "         [ 0,  0,  0]]])\n"
     ]
    }
   ],
   "source": [
    "\n",
    "tensor2 = tensor1 = torch.tensor([\n",
    "    [[1, 2, 3], [4, 5, 6], [66, 55, 77]], \n",
    "    [[7, 8, 9], [10, 11, 12], [13, 14, 15]]\n",
    "])\n",
    "\n",
    "x = torch.tensor([\n",
    "    [[1, 2, 3], [4, 5, 6], [66, 55, 77]], \n",
    "    [[7, 8, 9], [10, 11, 12], [13, 14, 15]]\n",
    "])\n",
    "\n",
    "# Get the shape of the input tensor\n",
    "batch_size, sequence_length, feature_size = x.shape\n",
    "\n",
    "# Create a tensor of zeros with the same shape as the last subsequence\n",
    "zeros_tensor = torch.zeros_like(x[:, 0:1, :])\n",
    "\n",
    "# Concatenate it to the original tensor along the second dimension\n",
    "padded_x = torch.cat((x, zeros_tensor), dim=1)\n",
    "\n",
    "# Now, padded_x will have zeros padded to the last subsequence\n",
    "print(padded_x)"
   ]
  },
  {
   "cell_type": "code",
   "execution_count": 8,
   "metadata": {},
   "outputs": [
    {
     "name": "stdout",
     "output_type": "stream",
     "text": [
      "tensor([[[ 1,  2,  3,  1,  2,  3],\n",
      "         [ 4,  5,  6,  4,  5,  6],\n",
      "         [66, 55, 77, 66, 55, 77]],\n",
      "\n",
      "        [[ 7,  8,  9,  7,  8,  9],\n",
      "         [10, 11, 12, 10, 11, 12],\n",
      "         [13, 14, 15, 13, 14, 15]]])\n"
     ]
    }
   ],
   "source": [
    "tensor1 = torch.tensor([\n",
    "    [[1, 2, 3], [4, 5, 6], [66, 55, 77]], \n",
    "    [[7, 8, 9], [10, 11, 12], [13, 14, 15]]\n",
    "])\n",
    "\n",
    "# Concatenate tensor1 with itself along the last dimension\n",
    "result = torch.cat((tensor1, tensor1), dim=-1)\n",
    "\n",
    "print(result)"
   ]
  },
  {
   "cell_type": "code",
   "execution_count": 7,
   "metadata": {},
   "outputs": [
    {
     "ename": "TypeError",
     "evalue": "pad_sequence(): argument 'padding_value' (position 3) must be float, not list",
     "output_type": "error",
     "traceback": [
      "\u001b[1;31m---------------------------------------------------------------------------\u001b[0m",
      "\u001b[1;31mTypeError\u001b[0m                                 Traceback (most recent call last)",
      "Cell \u001b[1;32mIn[7], line 8\u001b[0m\n\u001b[0;32m      5\u001b[0m list_of_lists \u001b[38;5;241m=\u001b[39m [\u001b[38;5;28mlist\u001b[39m(\u001b[38;5;28mmap\u001b[39m(\u001b[38;5;28mord\u001b[39m, s)) \u001b[38;5;28;01mfor\u001b[39;00m s \u001b[38;5;129;01min\u001b[39;00m list_of_strings]\n\u001b[0;32m      7\u001b[0m \u001b[38;5;66;03m# Pad sequences to the same length\u001b[39;00m\n\u001b[1;32m----> 8\u001b[0m padded_sequences \u001b[38;5;241m=\u001b[39m \u001b[43mpad_sequence\u001b[49m\u001b[43m(\u001b[49m\u001b[43m[\u001b[49m\u001b[43mtorch\u001b[49m\u001b[38;5;241;43m.\u001b[39;49m\u001b[43mtensor\u001b[49m\u001b[43m(\u001b[49m\u001b[43mseq\u001b[49m\u001b[43m)\u001b[49m\u001b[43m \u001b[49m\u001b[38;5;28;43;01mfor\u001b[39;49;00m\u001b[43m \u001b[49m\u001b[43mseq\u001b[49m\u001b[43m \u001b[49m\u001b[38;5;129;43;01min\u001b[39;49;00m\u001b[43m \u001b[49m\u001b[43mlist_of_lists\u001b[49m\u001b[43m]\u001b[49m\u001b[43m,\u001b[49m\u001b[43m \u001b[49m\u001b[43mbatch_first\u001b[49m\u001b[38;5;241;43m=\u001b[39;49m\u001b[38;5;28;43;01mTrue\u001b[39;49;00m\u001b[43m,\u001b[49m\u001b[43m \u001b[49m\u001b[43mpadding_value\u001b[49m\u001b[38;5;241;43m=\u001b[39;49m\u001b[43m[\u001b[49m\u001b[38;5;241;43m0\u001b[39;49m\u001b[43m,\u001b[49m\u001b[38;5;241;43m0\u001b[39;49m\u001b[43m,\u001b[49m\u001b[38;5;241;43m0\u001b[39;49m\u001b[43m,\u001b[49m\u001b[38;5;241;43m0\u001b[39;49m\u001b[43m,\u001b[49m\u001b[38;5;241;43m0\u001b[39;49m\u001b[43m]\u001b[49m\u001b[43m)\u001b[49m\n\u001b[0;32m     10\u001b[0m \u001b[38;5;28mprint\u001b[39m(padded_sequences)\n",
      "File \u001b[1;32me:\\Anaconda\\lib\\site-packages\\torch\\nn\\utils\\rnn.py:400\u001b[0m, in \u001b[0;36mpad_sequence\u001b[1;34m(sequences, batch_first, padding_value)\u001b[0m\n\u001b[0;32m    396\u001b[0m         sequences \u001b[38;5;241m=\u001b[39m sequences\u001b[38;5;241m.\u001b[39munbind(\u001b[38;5;241m0\u001b[39m)\n\u001b[0;32m    398\u001b[0m \u001b[38;5;66;03m# assuming trailing dimensions and type of all the Tensors\u001b[39;00m\n\u001b[0;32m    399\u001b[0m \u001b[38;5;66;03m# in sequences are same and fetching those from sequences[0]\u001b[39;00m\n\u001b[1;32m--> 400\u001b[0m \u001b[38;5;28;01mreturn\u001b[39;00m \u001b[43mtorch\u001b[49m\u001b[38;5;241;43m.\u001b[39;49m\u001b[43m_C\u001b[49m\u001b[38;5;241;43m.\u001b[39;49m\u001b[43m_nn\u001b[49m\u001b[38;5;241;43m.\u001b[39;49m\u001b[43mpad_sequence\u001b[49m\u001b[43m(\u001b[49m\u001b[43msequences\u001b[49m\u001b[43m,\u001b[49m\u001b[43m \u001b[49m\u001b[43mbatch_first\u001b[49m\u001b[43m,\u001b[49m\u001b[43m \u001b[49m\u001b[43mpadding_value\u001b[49m\u001b[43m)\u001b[49m\n",
      "\u001b[1;31mTypeError\u001b[0m: pad_sequence(): argument 'padding_value' (position 3) must be float, not list"
     ]
    },
    {
     "ename": "",
     "evalue": "",
     "output_type": "error",
     "traceback": [
      "\u001b[1;31mThe Kernel crashed while executing code in the the current cell or a previous cell. Please review the code in the cell(s) to identify a possible cause of the failure. Click <a href='https://aka.ms/vscodeJupyterKernelCrash'>here</a> for more info. View Jupyter <a href='command:jupyter.viewOutput'>log</a> for further details."
     ]
    }
   ],
   "source": [
    "# List of strings\n",
    "list_of_strings = [\"hello\", \"world\", \"deep\", \"learning\"]\n",
    "\n",
    "# Convert strings to lists of character indices\n",
    "list_of_lists = [list(map(ord, s)) for s in list_of_strings]\n",
    "\n",
    "# Pad sequences to the same length\n",
    "padded_sequences = pad_sequence([torch.tensor(seq) for seq in list_of_lists], batch_first=True, padding_value=0)\n",
    "\n",
    "print(padded_sequences)"
   ]
  },
  {
   "cell_type": "markdown",
   "metadata": {},
   "source": [
    "# Evaluation"
   ]
  },
  {
   "cell_type": "code",
   "execution_count": 14,
   "metadata": {},
   "outputs": [],
   "source": [
    "def evaluate(model, test_dataset, batch_size=256):\n",
    "  \"\"\"\n",
    "  This function takes a NER model and evaluates its performance (accuracy) on a test data\n",
    "  Inputs:\n",
    "  - model: a NER model\n",
    "  - test_dataset: dataset of type NERDataset\n",
    "  \"\"\"\n",
    "  ########################### TODO: Replace the Nones in the following code ##########################\n",
    "\n",
    "  # (1) create the test data loader\n",
    "  test_dataloader = torch.utils.data.DataLoader(test_dataset, batch_size=batch_size)\n",
    "\n",
    "  # GPU Configuration\n",
    "  use_cuda = torch.cuda.is_available()\n",
    "  device = torch.device(\"cuda\" if use_cuda else \"cpu\")\n",
    "  if use_cuda:\n",
    "    model = model.cuda()\n",
    "\n",
    "  total_acc_test = 0\n",
    "  \n",
    "  # (2) disable gradients\n",
    "  with torch.no_grad():\n",
    "    # 3mlna disable 3lshan e7na bn-predict (aw evaluate y3ny) b2a dlw2ty, msh bn-train\n",
    "\n",
    "    for test_input, test_label, test_context in tqdm(test_dataloader):\n",
    "      # (3) move the test input to the device\n",
    "      test_label = test_label.to(device)\n",
    "\n",
    "      # (4) move the test label to the device\n",
    "      test_input = test_input.to(device)\n",
    "      # brdo the comments should be reversed \n",
    "      test_context = test_context.long().to(device)\n",
    "      # (5) do the forward pass\n",
    "      output = model(test_input)\n",
    "      print(test_input.shape)\n",
    "      print(test_label.shape)\n",
    "      print(output.shape)\n",
    "      # accuracy calculation (just add the correct predicted items to total_acc_test)\n",
    "      acc = (output.argmax(dim=2) == test_label).sum().item()\n",
    "      total_acc_test += acc\n",
    "    \n",
    "    # (6) calculate the over all accuracy\n",
    "    total_acc_test /= (len(test_dataset) * len(test_dataset[0][0]))\n",
    "  ##################################################################################################\n",
    "\n",
    "  \n",
    "  print(f'\\nTest Accuracy: {total_acc_test}')"
   ]
  },
  {
   "cell_type": "code",
   "execution_count": 15,
   "metadata": {},
   "outputs": [
    {
     "name": "stdout",
     "output_type": "stream",
     "text": [
      "torch.Size([2500, 242])\n"
     ]
    },
    {
     "name": "stderr",
     "output_type": "stream",
     "text": [
      "100%|██████████| 10/10 [00:00<00:00, 87.72it/s]"
     ]
    },
    {
     "name": "stdout",
     "output_type": "stream",
     "text": [
      "torch.Size([256, 1212])\n",
      "torch.Size([256, 1212])\n",
      "torch.Size([256, 1212, 17])\n",
      "torch.Size([256, 1212])\n",
      "torch.Size([256, 1212])\n",
      "torch.Size([256, 1212, 17])\n",
      "torch.Size([256, 1212])\n",
      "torch.Size([256, 1212])\n",
      "torch.Size([256, 1212, 17])\n",
      "torch.Size([256, 1212])\n",
      "torch.Size([256, 1212])\n",
      "torch.Size([256, 1212, 17])\n",
      "torch.Size([256, 1212])\n",
      "torch.Size([256, 1212])\n",
      "torch.Size([256, 1212, 17])\n",
      "torch.Size([256, 1212])\n",
      "torch.Size([256, 1212])\n",
      "torch.Size([256, 1212, 17])\n",
      "torch.Size([256, 1212])\n",
      "torch.Size([256, 1212])\n",
      "torch.Size([256, 1212, 17])\n",
      "torch.Size([256, 1212])\n",
      "torch.Size([256, 1212])\n",
      "torch.Size([256, 1212, 17])\n",
      "torch.Size([256, 1212])\n",
      "torch.Size([256, 1212])\n",
      "torch.Size([256, 1212, 17])\n",
      "torch.Size([196, 1212])\n",
      "torch.Size([196, 1212])\n",
      "torch.Size([196, 1212, 17])\n",
      "\n",
      "Test Accuracy: 0.9817353135313531\n"
     ]
    },
    {
     "name": "stderr",
     "output_type": "stream",
     "text": [
      "\n"
     ]
    }
   ],
   "source": [
    "test_dataset = Dataset(val_char_sequences, val_labels, val_word_sequences)\n",
    "evaluate(lstm_model, test_dataset)"
   ]
  },
  {
   "cell_type": "code",
   "execution_count": null,
   "metadata": {},
   "outputs": [],
   "source": []
  }
 ],
 "metadata": {
  "kernelspec": {
   "display_name": "base",
   "language": "python",
   "name": "python3"
  },
  "language_info": {
   "codemirror_mode": {
    "name": "ipython",
    "version": 3
   },
   "file_extension": ".py",
   "mimetype": "text/x-python",
   "name": "python",
   "nbconvert_exporter": "python",
   "pygments_lexer": "ipython3",
   "version": "3.9.12"
  }
 },
 "nbformat": 4,
 "nbformat_minor": 2
}
