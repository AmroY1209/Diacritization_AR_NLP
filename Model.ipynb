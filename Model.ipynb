{
 "cells": [
  {
   "cell_type": "code",
   "execution_count": 1,
   "metadata": {},
   "outputs": [],
   "source": [
    "import torch\n",
    "\n",
    "import pickle\n",
    "\n",
    "import numpy as np\n",
    "\n",
    "from tqdm import tqdm\n",
    "\n",
    "from torch import nn\n",
    "\n",
    "# Encodes categorical labels into numerical format (used for label preprocessing)\n",
    "from sklearn.preprocessing import LabelEncoder\n",
    "\n",
    "# Calculates the accuracy of a classification model (used for model evaluation)\n",
    "from sklearn.metrics import accuracy_score\n",
    "\n",
    "# Defines a custom dataset class for PyTorch (used for handling data)\n",
    "import torch.utils.data\n",
    "\n",
    "# Creates a DataLoader for efficient batch processing in PyTorch (used for data loading)\n",
    "from torch.utils.data import DataLoader\n",
    "\n",
    "# Splits a dataset into training and validation sets (used for data splitting)\n",
    "from torch.utils.data import random_split\n",
    "\n",
    "# Represents a multi-dimensional matrix in PyTorch (used for tensor manipulation)\n",
    "from torch import Tensor\n",
    "\n",
    "# Implements a linear layer in a neural network (used for defining neural network architecture)\n",
    "from torch.nn import Linear\n",
    "\n",
    "# Applies rectified linear unit (ReLU) activation function (used for introducing non-linearity)\n",
    "from torch.nn import ReLU\n",
    "\n",
    "# Applies sigmoid activation function (used for binary classification output)\n",
    "from torch.nn import Sigmoid\n",
    "\n",
    "# Base class for all neural network modules in PyTorch (used for creating custom models)\n",
    "from torch.nn import Module\n",
    "\n",
    "# Stochastic Gradient Descent optimizer (used for model optimization during training)\n",
    "from torch.optim import SGD\n",
    "\n",
    "# Binary Cross Entropy Loss function (used for binary classification problems)\n",
    "from torch.nn import BCELoss\n",
    "\n",
    "# Initializes weights using Kaiming uniform initialization (used for weight initialization)\n",
    "from torch.nn.init import kaiming_uniform_\n",
    "\n",
    "# Initializes weights using Xavier (Glorot) uniform initialization (used for weight initialization)\n",
    "from torch.nn.init import xavier_uniform_\n",
    "\n",
    "from torch.nn.utils.rnn import pad_sequence"
   ]
  },
  {
   "cell_type": "code",
   "execution_count": 2,
   "metadata": {},
   "outputs": [],
   "source": [
    "\n",
    "with open('./pickles/word_sequences.pkl', 'rb') as file:\n",
    "    word_sequences = pickle.load(file)\n",
    "\n",
    "with open('./pickles/char_sequences_without_tashkeel.pkl', 'rb') as file:\n",
    "    char_sequences = pickle.load(file)\n",
    "\n",
    "with open('./pickles/tashkeel_sequences.pkl', 'rb') as file:\n",
    "    labels = pickle.load(file)\n",
    "\n",
    "with open('./pickles/val_word_sequences.pkl', 'rb') as file:\n",
    "    val_word_sequences = pickle.load(file)\n",
    "\n",
    "with open('./pickles/val_char_sequences_without_tashkeel.pkl', 'rb') as file:\n",
    "    val_char_sequences = pickle.load(file)\n",
    "\n",
    "with open('./pickles/val_tashkeel_sequences.pkl', 'rb') as file:\n",
    "    val_labels = pickle.load(file)\n",
    "\n",
    "with open('./pickles/sentence_diacritics_appearance_sequences.pickle', 'rb') as file:\n",
    "    test_sentences_diacritics_sequences = pickle.load(file)\n",
    "\n",
    "with open('./pickles/val_sentence_diacritics_appearance_sequences.pickle', 'rb') as file:\n",
    "    val_sentences_diacritics_sequences = pickle.load(file)\n",
    "\n",
    "with open('./pickles/segment_sequences.pickle', 'rb') as file:\n",
    "    train_segment_sequences = pickle.load(file)\n",
    "\n",
    "with open('./pickles/val_segment_sequences.pickle', 'rb') as file:\n",
    "    val_segment_sequences = pickle.load(file)"
   ]
  },
  {
   "cell_type": "code",
   "execution_count": 3,
   "metadata": {},
   "outputs": [
    {
     "name": "stdout",
     "output_type": "stream",
     "text": [
      "50000\n",
      "7183\n",
      "7183\n",
      "7183\n"
     ]
    }
   ],
   "source": [
    "print(len(word_sequences))\n",
    "print(len(char_sequences[1]))\n",
    "print(len(labels[1]))\n",
    "print(len(test_sentences_diacritics_sequences[0]))"
   ]
  },
  {
   "cell_type": "markdown",
   "metadata": {},
   "source": [
    "# Utility functions"
   ]
  },
  {
   "cell_type": "code",
   "execution_count": 2,
   "metadata": {},
   "outputs": [],
   "source": [
    "def concatenate_characters(characters):\n",
    "    # Create a tensor of zeros with the same shape as the last subsequence\n",
    "    zeros_tensor = torch.zeros_like(characters[:, 0:1, :])\n",
    "\n",
    "    # Concatenate it to the original tensor along the second dimension\n",
    "    padded_x = torch.cat((characters, zeros_tensor), dim=1)\n",
    "\n",
    "    # Now, padded_x will have zeros padded to the last subsequence\n",
    "\n",
    "    temp1 = padded_x[:, :-1, :]\n",
    "    temp2 = padded_x[:, 1:, :]\n",
    "\n",
    "    # Concatenate along the last dimension\n",
    "    concatenated_characters = torch.cat((temp1, temp2), dim=-1)\n",
    "\n",
    "    return concatenated_characters\n",
    "\n",
    "def concatenate_characters2(characters):\n",
    "    # Create a tensor of zeros with the same shape as the last subsequence\n",
    "    zeros_tensor = torch.zeros_like(characters[:, 0:1])\n",
    "\n",
    "    # Concatenate it to the original tensor along the second dimension\n",
    "    padded_x = torch.cat((characters, zeros_tensor), dim=1)\n",
    "\n",
    "    # Now, padded_x will have zeros padded to the last subsequence\n",
    "\n",
    "    temp1 = padded_x[:, :-1]\n",
    "    temp2 = padded_x[:, 1:]\n",
    "\n",
    "    # Concatenate along the last dimension\n",
    "    concatenated_characters = torch.cat((temp1, temp2), dim=-1)\n",
    "\n",
    "    return concatenated_characters\n",
    "\n",
    "def concatenate_tensors_elementwise(tensor1, tensor2):\n",
    "    result = torch.cat((tensor1, tensor2), dim=-1)\n",
    "    return result\n",
    "\n",
    "def concatenate_tensors_feature3(tensor1, tensor2):\n",
    "    concatenated_tensor = torch.cat((tensor1, tensor2.unsqueeze(2)), dim=2)\n",
    "    return concatenated_tensor\n",
    "\n",
    "def pad_list(list, max_len, val):\n",
    "    for i in range(len(list)):\n",
    "        if len(list[i]) < max_len:\n",
    "            for j in range(max_len - len(list[i])):\n",
    "                list[i].append(val)\n",
    "\n",
    "    return list"
   ]
  },
  {
   "cell_type": "code",
   "execution_count": 3,
   "metadata": {},
   "outputs": [],
   "source": [
    "# dataset definition\n",
    "# A custom Dataset class must implement three functions: __init__, __len__, and __getitem__.\n",
    "class Dataset(torch.utils.data.Dataset):\n",
    "    # load the dataset\n",
    "    # The __init__ function is run once when instantiating the Dataset object\n",
    "    def __init__(self, char_sequences, labels, word_sequences, diacritics_sequence, segment_sequences):\n",
    "        \n",
    "        self.x = torch.tensor(char_sequences)\n",
    "\n",
    "        self.y = torch.tensor(labels)\n",
    "\n",
    "        self.word = torch.tensor(word_sequences)\n",
    "\n",
    "        self.diacritics_sequence = torch.tensor(diacritics_sequence)\n",
    "\n",
    "        self.segment_sequences = torch.tensor(segment_sequences)\n",
    "\n",
    "    # number of rows in the dataset\n",
    "    # The __len__ function returns the number of samples in our dataset.\n",
    "    def __len__(self):\n",
    "        return len(self.x)\n",
    "\n",
    "    def __getitem__(self, idx):\n",
    "        return self.x[idx], self.y[idx], self.word[idx], self.diacritics_sequence[idx], self.segment_sequences[idx]\n",
    "\n",
    "    # get indexes for train and test rows\n",
    "    def get_splits(self, n_test=0.33):\n",
    "        # determine sizes\n",
    "        test_size = round(n_test * len(self.x))\n",
    "        train_size = len(self.x) - test_size\n",
    "        # calculate the split\n",
    "        return random_split(self, [train_size, test_size])\n",
    "\n",
    "\n",
    "# # prepare the dataset\n",
    "# def prepare_data():\n",
    "#     # load the dataset\n",
    "#     dataset = CSVDataset()\n",
    "#     # calculate split\n",
    "#     train, test = dataset.get_splits()\n",
    "#     # prepare data loaders\n",
    "#     # The Dataset retrieves our dataset’s features and labels one sample at a time.\n",
    "#     # While training a model, we typically want to pass samples in “minibatches”,\n",
    "#     # reshuffle the data at every epoch to reduce model overfitting,\n",
    "#     train_dl = DataLoader(train, batch_size=32, shuffle=True)\n",
    "#     test_dl = DataLoader(test, batch_size=1024, shuffle=False)\n",
    "#     return dataset.encoding_mapping, train_dl, test_dl"
   ]
  },
  {
   "cell_type": "code",
   "execution_count": 6,
   "metadata": {},
   "outputs": [
    {
     "ename": "NameError",
     "evalue": "name 'labels' is not defined",
     "output_type": "error",
     "traceback": [
      "\u001b[1;31m---------------------------------------------------------------------------\u001b[0m",
      "\u001b[1;31mNameError\u001b[0m                                 Traceback (most recent call last)",
      "Cell \u001b[1;32mIn[6], line 2\u001b[0m\n\u001b[0;32m      1\u001b[0m \u001b[38;5;66;03m#convert labels to numpy array\u001b[39;00m\n\u001b[1;32m----> 2\u001b[0m \u001b[38;5;28mprint\u001b[39m(\u001b[38;5;28mlen\u001b[39m(\u001b[43mlabels\u001b[49m[\u001b[38;5;241m3\u001b[39m]))\n\u001b[0;32m      3\u001b[0m \u001b[38;5;28mprint\u001b[39m(\u001b[38;5;28mlen\u001b[39m(char_sequences[\u001b[38;5;241m3\u001b[39m]))\n\u001b[0;32m      4\u001b[0m train_ds \u001b[38;5;241m=\u001b[39m Dataset(char_sequences, labels, word_sequences, test_sentences_diacritics_sequences, train_segment_sequences)\n",
      "\u001b[1;31mNameError\u001b[0m: name 'labels' is not defined"
     ]
    }
   ],
   "source": [
    "#convert labels to numpy array\n",
    "print(len(labels[3]))\n",
    "print(len(char_sequences[3]))\n",
    "train_ds = Dataset(char_sequences, labels, word_sequences, test_sentences_diacritics_sequences, train_segment_sequences)\n",
    "train_dl = torch.utils.data.DataLoader(train_ds, batch_size=64, shuffle=True)\n",
    "\n",
    "dg = iter(train_dl)\n",
    "X1, Y1, z1, d1, s1 = next(dg)\n",
    "X2, Y2, z2, d2, s2 = next(dg)\n",
    "print(Y1.shape, X1.shape, z1.shape, d1.shape, s1.shape, Y2.shape, X2.shape, z2.shape, d2.shape, s2.shape)\n",
    "print(X1[0][:], \"\\n\", Y1[0][:])"
   ]
  },
  {
   "cell_type": "markdown",
   "metadata": {},
   "source": [
    "MODEL"
   ]
  },
  {
   "cell_type": "code",
   "execution_count": 4,
   "metadata": {},
   "outputs": [],
   "source": [
    "class Char_model(nn.Module):\n",
    "  def __init__(self, vocab_size=42, embedding_dim=50, hidden_size=50, n_classes=17):\n",
    "    \"\"\"\n",
    "    The constructor of our NER model\n",
    "    Inputs:\n",
    "    - vacab_size: the number of unique words\n",
    "    - embedding_dim: the embedding dimension\n",
    "    - n_classes: the number of final classes (tags)\n",
    "\n",
    "    embedding_dim here: 50 for char embedding + 50 for following char embedding + 1 for feature3 = 101\n",
    "    \"\"\"\n",
    "\n",
    "    super(Char_model, self).__init__()\n",
    "\n",
    "    input_len = 2*embedding_dim + 15 + 1\n",
    "    ####################### TODO: Create the layers of your model #######################################\n",
    "    # (1) Create the embedding layer\n",
    "    self.embedding_char = nn.Embedding(vocab_size, embedding_dim)\n",
    "    self.embedding_diacritics = nn.Embedding(14, 15)\n",
    "\n",
    "    # (2) Create an LSTM layer with hidden size = hidden_size and batch_first = True\n",
    "    self.lstm = nn.LSTM(input_len, hidden_size, batch_first=True)\n",
    "    # batch_first makes the input and output tensors to be of shape (batch_size, seq_length, hidden_size)\n",
    "\n",
    "    # (3) Create a linear layer\n",
    "    self.linear = nn.Linear(hidden_size, n_classes)\n",
    "\n",
    "    #####################################################################################################\n",
    "\n",
    "  def forward(self, sentences, diacritics_list, segments, h_0=None, c_0=None):\n",
    "    \"\"\"\n",
    "    This function does the forward pass of our model\n",
    "    Inputs:\n",
    "    - sentences: tensor of shape (batch_size, max_length)\n",
    "\n",
    "    Returns:\n",
    "    - final_output: tensor of shape (batch_size, max_length, n_classes)\n",
    "    \"\"\"\n",
    "\n",
    "    final_output = None\n",
    "    #############################################################\n",
    "    sentences_embedded = self.embedding_char(sentences) \n",
    "    diacritics_embedded = self.embedding_diacritics(diacritics_list)\n",
    "    \n",
    "    sentences_embedded = concatenate_characters(sentences_embedded) #feature 1: concatenate characters\n",
    "    sentences_embedded = concatenate_tensors_elementwise(sentences_embedded, diacritics_embedded) #feature 2: concatenate diacritics seen before\n",
    "    sentences_embedded = concatenate_tensors_feature3(sentences_embedded, segments) #feature 3: concatenate segment for each character\n",
    "\n",
    "    #check if h_0 and c_0 are provided or not\n",
    "    if h_0 is None or c_0 is None:\n",
    "      final_output, (h_0, c_0) = self.lstm(sentences_embedded)\n",
    "    else:\n",
    "      final_output, _ = self.lstm(sentences_embedded, (h_0, c_0)) \n",
    "      \n",
    "    final_output = self.linear(final_output)  \n",
    "\n",
    "\n",
    "    ############################################################\n",
    "    return final_output"
   ]
  },
  {
   "cell_type": "code",
   "execution_count": 5,
   "metadata": {},
   "outputs": [],
   "source": [
    "class Word_model(nn.Module):\n",
    "  def __init__(self, vocab_size=2093761, embedding_dim=50, hidden_size=50, n_classes=17):\n",
    "    \"\"\"\n",
    "    The constructor of our NER model\n",
    "    Inputs:\n",
    "    - vacab_size: the number of unique words\n",
    "    - embedding_dim: the embedding dimension\n",
    "    - n_classes: the number of final classes (tags)\n",
    "    \"\"\"\n",
    "    super(Word_model, self).__init__()\n",
    "    ####################### TODO: Create the layers of your model #######################################\n",
    "    # (1) Create the embedding layer\n",
    "    self.embedding = nn.Embedding(vocab_size, embedding_dim)\n",
    "\n",
    "    # (2) Create an LSTM layer with hidden size = hidden_size and batch_first = True\n",
    "    self.rnn = nn.RNN(hidden_size, hidden_size, batch_first=True)\n",
    "    # batch_first makes the input and output tensors to be of shape (batch_size, seq_length, hidden_size)\n",
    "\n",
    "    #####################################################################################################\n",
    "\n",
    "  def forward(self, sentences):\n",
    "    \"\"\"\n",
    "    This function does the forward pass of our model\n",
    "    Inputs:\n",
    "    - sentences: tensor of shape (batch_size, max_length)\n",
    "\n",
    "    Returns:\n",
    "    - final_output: tensor of shape (batch_size, max_length, n_classes)\n",
    "    \"\"\"\n",
    "\n",
    "    final_output = None\n",
    "    ######################### TODO: implement the forward pass ####################################\n",
    "    final_output = self.embedding(sentences) \n",
    "    final_output, h = self.rnn(final_output)   \n",
    "\n",
    "    ###############################################################################################\n",
    "    return final_output, h"
   ]
  },
  {
   "cell_type": "code",
   "execution_count": 6,
   "metadata": {},
   "outputs": [
    {
     "name": "stdout",
     "output_type": "stream",
     "text": [
      "Char_model(\n",
      "  (embedding_char): Embedding(42, 50)\n",
      "  (embedding_diacritics): Embedding(14, 15)\n",
      "  (lstm): LSTM(116, 50, batch_first=True)\n",
      "  (linear): Linear(in_features=50, out_features=17, bias=True)\n",
      ")\n",
      "Word_model(\n",
      "  (embedding): Embedding(2093761, 50)\n",
      "  (rnn): RNN(50, 50, batch_first=True)\n",
      ")\n"
     ]
    }
   ],
   "source": [
    "lstm_model = Char_model()\n",
    "word_model = Word_model()\n",
    "# lstm_model.load_state_dict(torch.load('lstm_model_weights.pth'))\n",
    "# word_model.load_state_dict(torch.load('word_model_weights.pth'))\n",
    "print(lstm_model)\n",
    "print(word_model)"
   ]
  },
  {
   "cell_type": "markdown",
   "metadata": {},
   "source": [
    "# Training"
   ]
  },
  {
   "cell_type": "code",
   "execution_count": 10,
   "metadata": {},
   "outputs": [],
   "source": [
    "def train(lstm_model, context_model, train_dataset, batch_size=128, epochs=22, learning_rate=0.014):\n",
    "  \"\"\"\n",
    "  This function implements the training logic\n",
    "  Inputs:\n",
    "  - model: the model ot be trained\n",
    "  - train_dataset: the training set of type NERDataset\n",
    "  - batch_size: integer represents the number of examples per step\n",
    "  - epochs: integer represents the total number of epochs (full training pass)\n",
    "  - learning_rate: the learning rate to be used by the optimizer\n",
    "  \"\"\"\n",
    "\n",
    "  # (1) create the dataloader of the training set (make the shuffle=True)\n",
    "  train_dataloader = torch.utils.data.DataLoader(train_dataset, batch_size=batch_size, shuffle=True)\n",
    "\n",
    "  # (2) make the criterion cross entropy loss\n",
    "  criterion = nn.CrossEntropyLoss()\n",
    "\n",
    "  # (3) create the optimizer (Adam)\n",
    "  optimizer = torch.optim.Adam(list(lstm_model.parameters()) + list(context_model.parameters()), lr=learning_rate)\n",
    "  # GPU configuration\n",
    "  use_cuda = torch.cuda.is_available()\n",
    "  device = torch.device(\"cuda\" if use_cuda else \"cpu\")\n",
    "  if use_cuda:\n",
    "    lstm_model = lstm_model.cuda()\n",
    "    context_model = context_model.cuda()\n",
    "    criterion = criterion.cuda()\n",
    "  # device=\"cpu\"\n",
    "  for epoch_num in range(epochs):\n",
    "    total_acc_train = 0\n",
    "    total_loss_train = 0\n",
    "\n",
    "    for train_input, train_label, train_context, train_diacritic, train_segments in tqdm(train_dataloader):\n",
    "      \n",
    "\n",
    "      # (4) move the train input to the device\n",
    "      train_label = train_label.long().to(device)\n",
    "\n",
    "      # (5) move the train label to the device\n",
    "      train_input = train_input.long().to(device)\n",
    "\n",
    "      train_context = train_context.long().to(device)\n",
    "\n",
    "      train_diacritic = train_diacritic.long().to(device)\n",
    "\n",
    "      train_segments = train_segments.long().to(device)\n",
    "\n",
    "      # (6) do the forward pass\n",
    "      # context, h_0 = context_model(train_context)\n",
    "      # c_0 = torch.zeros(context.shape[0], 1, context.shape[2])\n",
    "      # h_0 = torch.transpose(h_0, 0, 1)\n",
    "      #h_0 = h_0.permute(1, 0, 2)\n",
    "      #print(h_0.shape)\n",
    "      # print(train_input.shape)\n",
    "      # print(train_diacritic.shape)\n",
    "      output = lstm_model(train_input, train_diacritic, train_segments)\n",
    "      \n",
    "      # (7) loss calculation (you need to think in this part how to calculate the loss correctly)\n",
    "      batch_loss = criterion(output.reshape(-1, 17), train_label.reshape(-1))\n",
    "  \n",
    "      # (8) append the batch loss to the total_loss_train\n",
    "      total_loss_train += batch_loss.item()\n",
    "      \n",
    "      # (9) calculate the batch accuracy (just add the number of correct predictions)\n",
    "      acc = (output.argmax(dim=2) == train_label).sum().item()\n",
    "      total_acc_train += acc\n",
    "\n",
    "      # (10) zero your gradients\n",
    "      optimizer.zero_grad()\n",
    "      \n",
    "      # (11) do the backward pass\n",
    "      batch_loss.backward()\n",
    "\n",
    "      # (12) update the weights with your optimizer\n",
    "      optimizer.step()\n",
    "      \n",
    "    # epoch loss\n",
    "    epoch_loss = total_loss_train / len(train_dataset)\n",
    "\n",
    "    # (13) calculate the accuracy\n",
    "    epoch_acc = total_acc_train / (len(train_dataset) * len(train_dataset[0][0]))\n",
    "    # ba2sem 3la 3adad el kalemat fy kol el gomal \n",
    "    # kol gomla asln fyha 104 kelma, fa badrab dh fy 3adad el gomal bs\n",
    "\n",
    "    print(\n",
    "        f'Epochs: {epoch_num + 1} | Train Loss: {epoch_loss} \\\n",
    "        | Train Accuracy: {epoch_acc}\\n')\n",
    "\n",
    "  ##############################################################################################################\n",
    "  "
   ]
  },
  {
   "cell_type": "code",
   "execution_count": 11,
   "metadata": {},
   "outputs": [
    {
     "name": "stderr",
     "output_type": "stream",
     "text": [
      "100%|██████████| 391/391 [01:02<00:00,  6.26it/s]\n"
     ]
    },
    {
     "name": "stdout",
     "output_type": "stream",
     "text": [
      "Epochs: 1 | Train Loss: 0.0002728730552829802         | Train Accuracy: 0.9899486704719477\n",
      "\n"
     ]
    },
    {
     "name": "stderr",
     "output_type": "stream",
     "text": [
      "100%|██████████| 391/391 [00:56<00:00,  6.95it/s]\n"
     ]
    },
    {
     "name": "stdout",
     "output_type": "stream",
     "text": [
      "Epochs: 2 | Train Loss: 0.00010363375766202808         | Train Accuracy: 0.9956194821105387\n",
      "\n"
     ]
    },
    {
     "name": "stderr",
     "output_type": "stream",
     "text": [
      "100%|██████████| 391/391 [00:55<00:00,  7.07it/s]\n"
     ]
    },
    {
     "name": "stdout",
     "output_type": "stream",
     "text": [
      "Epochs: 3 | Train Loss: 8.626960692927241e-05         | Train Accuracy: 0.9962776667130725\n",
      "\n"
     ]
    },
    {
     "name": "stderr",
     "output_type": "stream",
     "text": [
      "100%|██████████| 391/391 [00:55<00:00,  7.10it/s]\n"
     ]
    },
    {
     "name": "stdout",
     "output_type": "stream",
     "text": [
      "Epochs: 4 | Train Loss: 7.688756377436221e-05         | Train Accuracy: 0.9966267604065154\n",
      "\n"
     ]
    },
    {
     "name": "stderr",
     "output_type": "stream",
     "text": [
      "100%|██████████| 391/391 [00:55<00:00,  7.06it/s]\n"
     ]
    },
    {
     "name": "stdout",
     "output_type": "stream",
     "text": [
      "Epochs: 5 | Train Loss: 7.155728268437087e-05         | Train Accuracy: 0.9968338521509119\n",
      "\n"
     ]
    },
    {
     "name": "stderr",
     "output_type": "stream",
     "text": [
      "100%|██████████| 391/391 [00:55<00:00,  7.08it/s]\n"
     ]
    },
    {
     "name": "stdout",
     "output_type": "stream",
     "text": [
      "Epochs: 6 | Train Loss: 6.786611939780415e-05         | Train Accuracy: 0.9969818404566337\n",
      "\n"
     ]
    },
    {
     "name": "stderr",
     "output_type": "stream",
     "text": [
      "100%|██████████| 391/391 [00:55<00:00,  7.06it/s]\n"
     ]
    },
    {
     "name": "stdout",
     "output_type": "stream",
     "text": [
      "Epochs: 7 | Train Loss: 6.510811077430844e-05         | Train Accuracy: 0.9971046999860782\n",
      "\n"
     ]
    },
    {
     "name": "stderr",
     "output_type": "stream",
     "text": [
      "100%|██████████| 391/391 [00:55<00:00,  7.10it/s]\n"
     ]
    },
    {
     "name": "stdout",
     "output_type": "stream",
     "text": [
      "Epochs: 8 | Train Loss: 6.312433336861432e-05         | Train Accuracy: 0.997191009327579\n",
      "\n"
     ]
    },
    {
     "name": "stderr",
     "output_type": "stream",
     "text": [
      "100%|██████████| 391/391 [00:55<00:00,  7.09it/s]\n"
     ]
    },
    {
     "name": "stdout",
     "output_type": "stream",
     "text": [
      "Epochs: 9 | Train Loss: 6.163188241422176e-05         | Train Accuracy: 0.9972516664346374\n",
      "\n"
     ]
    },
    {
     "name": "stderr",
     "output_type": "stream",
     "text": [
      "100%|██████████| 391/391 [00:55<00:00,  7.09it/s]\n"
     ]
    },
    {
     "name": "stdout",
     "output_type": "stream",
     "text": [
      "Epochs: 10 | Train Loss: 6.045670593157411e-05         | Train Accuracy: 0.9972990895169149\n",
      "\n"
     ]
    },
    {
     "name": "stderr",
     "output_type": "stream",
     "text": [
      "100%|██████████| 391/391 [00:55<00:00,  7.11it/s]\n"
     ]
    },
    {
     "name": "stdout",
     "output_type": "stream",
     "text": [
      "Epochs: 11 | Train Loss: 5.9476998737081885e-05         | Train Accuracy: 0.9973376555756648\n",
      "\n"
     ]
    },
    {
     "name": "stderr",
     "output_type": "stream",
     "text": [
      "100%|██████████| 391/391 [00:55<00:00,  7.10it/s]\n"
     ]
    },
    {
     "name": "stdout",
     "output_type": "stream",
     "text": [
      "Epochs: 12 | Train Loss: 5.871661365032196e-05         | Train Accuracy: 0.9973662035361269\n",
      "\n"
     ]
    },
    {
     "name": "stderr",
     "output_type": "stream",
     "text": [
      "100%|██████████| 391/391 [00:54<00:00,  7.12it/s]\n"
     ]
    },
    {
     "name": "stdout",
     "output_type": "stream",
     "text": [
      "Epochs: 13 | Train Loss: 5.8011263236403464e-05         | Train Accuracy: 0.9973940554086036\n",
      "\n"
     ]
    },
    {
     "name": "stderr",
     "output_type": "stream",
     "text": [
      "100%|██████████| 391/391 [00:55<00:00,  7.10it/s]\n"
     ]
    },
    {
     "name": "stdout",
     "output_type": "stream",
     "text": [
      "Epochs: 14 | Train Loss: 5.744894768111408e-05         | Train Accuracy: 0.9974174606710288\n",
      "\n"
     ]
    },
    {
     "name": "stderr",
     "output_type": "stream",
     "text": [
      "100%|██████████| 391/391 [00:54<00:00,  7.12it/s]\n"
     ]
    },
    {
     "name": "stdout",
     "output_type": "stream",
     "text": [
      "Epochs: 15 | Train Loss: 5.701502298936248e-05         | Train Accuracy: 0.9974337129333147\n",
      "\n"
     ]
    },
    {
     "name": "stderr",
     "output_type": "stream",
     "text": [
      "100%|██████████| 391/391 [00:54<00:00,  7.11it/s]\n"
     ]
    },
    {
     "name": "stdout",
     "output_type": "stream",
     "text": [
      "Epochs: 16 | Train Loss: 5.653371615335345e-05         | Train Accuracy: 0.9974562745371015\n",
      "\n"
     ]
    },
    {
     "name": "stderr",
     "output_type": "stream",
     "text": [
      "100%|██████████| 391/391 [00:55<00:00,  7.10it/s]\n"
     ]
    },
    {
     "name": "stdout",
     "output_type": "stream",
     "text": [
      "Epochs: 17 | Train Loss: 5.619737023487687e-05         | Train Accuracy: 0.997469903939858\n",
      "\n"
     ]
    },
    {
     "name": "stderr",
     "output_type": "stream",
     "text": [
      "100%|██████████| 391/391 [00:55<00:00,  7.10it/s]\n"
     ]
    },
    {
     "name": "stdout",
     "output_type": "stream",
     "text": [
      "Epochs: 18 | Train Loss: 5.587526267394424e-05         | Train Accuracy: 0.9974851733259084\n",
      "\n"
     ]
    },
    {
     "name": "stderr",
     "output_type": "stream",
     "text": [
      "100%|██████████| 391/391 [00:54<00:00,  7.12it/s]\n"
     ]
    },
    {
     "name": "stdout",
     "output_type": "stream",
     "text": [
      "Epochs: 19 | Train Loss: 5.5594088966026905e-05         | Train Accuracy: 0.997493314770987\n",
      "\n"
     ]
    },
    {
     "name": "stderr",
     "output_type": "stream",
     "text": [
      "100%|██████████| 391/391 [00:54<00:00,  7.11it/s]\n"
     ]
    },
    {
     "name": "stdout",
     "output_type": "stream",
     "text": [
      "Epochs: 20 | Train Loss: 5.5281839659437535e-05         | Train Accuracy: 0.9975069553111513\n",
      "\n"
     ]
    },
    {
     "name": "stderr",
     "output_type": "stream",
     "text": [
      "100%|██████████| 391/391 [00:55<00:00,  7.11it/s]\n"
     ]
    },
    {
     "name": "stdout",
     "output_type": "stream",
     "text": [
      "Epochs: 21 | Train Loss: 5.50673480797559e-05         | Train Accuracy: 0.9975168453292497\n",
      "\n"
     ]
    },
    {
     "name": "stderr",
     "output_type": "stream",
     "text": [
      "100%|██████████| 391/391 [00:56<00:00,  6.88it/s]"
     ]
    },
    {
     "name": "stdout",
     "output_type": "stream",
     "text": [
      "Epochs: 22 | Train Loss: 5.49068286921829e-05         | Train Accuracy: 0.9975216121397744\n",
      "\n"
     ]
    },
    {
     "name": "stderr",
     "output_type": "stream",
     "text": [
      "\n"
     ]
    }
   ],
   "source": [
    "torch.cuda.empty_cache()\n",
    "\n",
    "train_dataset = Dataset(char_sequences, labels, word_sequences, test_sentences_diacritics_sequences, train_segment_sequences)\n",
    "train(lstm_model, word_model, train_dataset)"
   ]
  },
  {
   "cell_type": "code",
   "execution_count": 12,
   "metadata": {},
   "outputs": [
    {
     "name": "stdout",
     "output_type": "stream",
     "text": [
      "tensor([[[ 1,  2,  3],\n",
      "         [ 4,  5,  6],\n",
      "         [66, 55, 77],\n",
      "         [ 0,  0,  0]],\n",
      "\n",
      "        [[ 7,  8,  9],\n",
      "         [10, 11, 12],\n",
      "         [13, 14, 15],\n",
      "         [ 0,  0,  0]]])\n"
     ]
    }
   ],
   "source": [
    "torch.save(lstm_model.state_dict(), '30e5_lstm_model_weights.pth')\n",
    "torch.save(word_model.state_dict(), '30e5_word_model_weights.pth')\n",
    "tensor2 = tensor1 = torch.tensor([\n",
    "    [[1, 2, 3], [4, 5, 6], [66, 55, 77]], \n",
    "    [[7, 8, 9], [10, 11, 12], [13, 14, 15]]\n",
    "])\n",
    "\n",
    "x = torch.tensor([\n",
    "    [[1, 2, 3], [4, 5, 6], [66, 55, 77]], \n",
    "    [[7, 8, 9], [10, 11, 12], [13, 14, 15]]\n",
    "])\n",
    "\n",
    "# Get the shape of the input tensor\n",
    "batch_size, sequence_length, feature_size = x.shape\n",
    "\n",
    "# Create a tensor of zeros with the same shape as the last subsequence\n",
    "zeros_tensor = torch.zeros_like(x[:, 0:1, :])\n",
    "\n",
    "# Concatenate it to the original tensor along the second dimension\n",
    "padded_x = torch.cat((x, zeros_tensor), dim=1)\n",
    "\n",
    "# Now, padded_x will have zeros padded to the last subsequence\n",
    "print(padded_x)"
   ]
  },
  {
   "cell_type": "code",
   "execution_count": null,
   "metadata": {},
   "outputs": [],
   "source": [
    "tensor1 = torch.tensor([\n",
    "    [[1, 2, 3], [4, 5, 6], [66, 55, 77]], \n",
    "    [[7, 8, 9], [10, 11, 12], [13, 14, 15]]\n",
    "])\n",
    "\n",
    "# Concatenate tensor1 with itself along the last dimension\n",
    "result = torch.cat((tensor1, tensor1), dim=-1)\n",
    "\n",
    "print(result)"
   ]
  },
  {
   "cell_type": "code",
   "execution_count": null,
   "metadata": {},
   "outputs": [],
   "source": [
    "# List of strings\n",
    "list_of_strings = [\"hello\", \"world\", \"deep\", \"learning\"]\n",
    "\n",
    "# Convert strings to lists of character indices\n",
    "list_of_lists = [list(map(ord, s)) for s in list_of_strings]\n",
    "\n",
    "# Pad sequences to the same length\n",
    "padded_sequences = pad_sequence([torch.tensor(seq) for seq in list_of_lists], batch_first=True, padding_value=0)\n",
    "\n",
    "print(padded_sequences)"
   ]
  },
  {
   "cell_type": "code",
   "execution_count": null,
   "metadata": {},
   "outputs": [],
   "source": [
    "# Assuming you have two tensors A and B\n",
    "tensor_A = torch.randn(128, 7183, 50)\n",
    "tensor_B = torch.randint(0, 2, (128, 7183), dtype=torch.float32)  # Example tensor, adjust as needed\n",
    "\n",
    "# Concatenate along the last dimension\n",
    "concatenated_tensor = torch.cat((tensor_A, tensor_B.unsqueeze(2)), dim=2)\n",
    "\n",
    "# Print the shape of the concatenated tensor\n",
    "print(concatenated_tensor.shape)"
   ]
  },
  {
   "cell_type": "markdown",
   "metadata": {},
   "source": [
    "# Evaluation"
   ]
  },
  {
   "cell_type": "code",
   "execution_count": 14,
   "metadata": {},
   "outputs": [],
   "source": [
    "def evaluate(model, test_dataset, batch_size=256):\n",
    "  \"\"\"\n",
    "  This function takes a NER model and evaluates its performance (accuracy) on a test data\n",
    "  Inputs:\n",
    "  - model: a NER model\n",
    "  - test_dataset: dataset of type NERDataset\n",
    "  \"\"\"\n",
    "  ########################### TODO: Replace the Nones in the following code ##########################\n",
    "\n",
    "  # (1) create the test data loader\n",
    "  test_dataloader = torch.utils.data.DataLoader(test_dataset, batch_size=batch_size)\n",
    "\n",
    "  # GPU Configuration\n",
    "  use_cuda = torch.cuda.is_available()\n",
    "  device = torch.device(\"cuda\" if use_cuda else \"cpu\")\n",
    "  if use_cuda:\n",
    "    model = model.cuda()\n",
    "\n",
    "  total_acc_test = 0\n",
    "  \n",
    "  # (2) disable gradients\n",
    "  with torch.no_grad():\n",
    "    # 3mlna disable 3lshan e7na bn-predict (aw evaluate y3ny) b2a dlw2ty, msh bn-train\n",
    "\n",
    "    for test_input, test_label, test_context, test_diacritics, test_segments in tqdm(test_dataloader):\n",
    "      # (3) move the test input to the device\n",
    "      test_label = test_label.to(device)\n",
    "\n",
    "      # (4) move the test label to the device\n",
    "      test_input = test_input.to(device)\n",
    "      # brdo the comments should be reversed \n",
    "      test_context = test_context.long().to(device)\n",
    "      test_diacritics = test_diacritics.long().to(device)\n",
    "      test_segments = test_segments.long().to(device)\n",
    "      # (5) do the forward pass\n",
    "      output = model(test_input, test_diacritics, test_segments)\n",
    "      print(test_input.shape)\n",
    "      print(test_label.shape)\n",
    "      print(output.shape)\n",
    "      # accuracy calculation (just add the correct predicted items to total_acc_test)\n",
    "      acc = (output.argmax(dim=2) == test_label).sum().item()\n",
    "      total_acc_test += acc\n",
    "    \n",
    "    # (6) calculate the over all accuracy\n",
    "    total_acc_test /= (len(test_dataset) * len(test_dataset[0][0]))\n",
    "  ##################################################################################################\n",
    "\n",
    "  \n",
    "  print(f'\\nTest Accuracy: {total_acc_test}')"
   ]
  },
  {
   "cell_type": "code",
   "execution_count": 15,
   "metadata": {},
   "outputs": [
    {
     "name": "stderr",
     "output_type": "stream",
     "text": [
      "100%|██████████| 10/10 [00:00<00:00, 49.42it/s]"
     ]
    },
    {
     "name": "stdout",
     "output_type": "stream",
     "text": [
      "torch.Size([256, 1212])\n",
      "torch.Size([256, 1212])\n",
      "torch.Size([256, 1212, 17])\n",
      "torch.Size([256, 1212])\n",
      "torch.Size([256, 1212])\n",
      "torch.Size([256, 1212, 17])\n",
      "torch.Size([256, 1212])\n",
      "torch.Size([256, 1212])\n",
      "torch.Size([256, 1212, 17])\n",
      "torch.Size([256, 1212])\n",
      "torch.Size([256, 1212])\n",
      "torch.Size([256, 1212, 17])\n",
      "torch.Size([256, 1212])\n",
      "torch.Size([256, 1212])\n",
      "torch.Size([256, 1212, 17])\n",
      "torch.Size([256, 1212])\n",
      "torch.Size([256, 1212])\n",
      "torch.Size([256, 1212, 17])\n",
      "torch.Size([256, 1212])\n",
      "torch.Size([256, 1212])\n",
      "torch.Size([256, 1212, 17])\n",
      "torch.Size([256, 1212])\n",
      "torch.Size([256, 1212])\n",
      "torch.Size([256, 1212, 17])\n",
      "torch.Size([256, 1212])\n",
      "torch.Size([256, 1212])\n",
      "torch.Size([256, 1212, 17])\n",
      "torch.Size([196, 1212])\n",
      "torch.Size([196, 1212])\n",
      "torch.Size([196, 1212, 17])\n"
     ]
    },
    {
     "name": "stderr",
     "output_type": "stream",
     "text": [
      "100%|██████████| 10/10 [00:00<00:00, 49.26it/s]"
     ]
    },
    {
     "name": "stdout",
     "output_type": "stream",
     "text": [
      "\n",
      "Test Accuracy: 0.9837260726072607\n"
     ]
    },
    {
     "name": "stderr",
     "output_type": "stream",
     "text": [
      "\n"
     ]
    }
   ],
   "source": [
    "test_dataset = Dataset(val_char_sequences, val_labels, val_word_sequences, val_sentences_diacritics_sequences, val_segment_sequences)\n",
    "evaluate(lstm_model, test_dataset)"
   ]
  },
  {
   "cell_type": "code",
   "execution_count": 7,
   "metadata": {},
   "outputs": [
    {
     "name": "stdout",
     "output_type": "stream",
     "text": [
      "1904\n",
      "1904\n",
      "1904\n"
     ]
    }
   ],
   "source": [
    "with open('./pickles/test_segment_sequences.pickle', 'rb') as file:\n",
    "    test_segment_sequences = pickle.load(file)\n",
    "\n",
    "with open('./pickles/test_sentence_diacritics_appearance_sequences.pickle', 'rb') as file:\n",
    "    test_sentences_diacritics_sequences = pickle.load(file)\n",
    "\n",
    "with open('./pickles/test_char_sequences_without_tashkeel.pkl', 'rb') as file:\n",
    "    test_char_sequences = pickle.load(file)\n",
    "\n",
    "print(len(test_segment_sequences[0]))\n",
    "print(len(test_sentences_diacritics_sequences[0]))\n",
    "print(len(test_char_sequences[0]))\n"
   ]
  },
  {
   "cell_type": "code",
   "execution_count": 8,
   "metadata": {},
   "outputs": [
    {
     "ename": "RuntimeError",
     "evalue": "[enforce fail at alloc_cpu.cpp:80] data. DefaultCPUAllocator: not enough memory: you tried to allocate 33372880896 bytes.",
     "output_type": "error",
     "traceback": [
      "\u001b[1;31m---------------------------------------------------------------------------\u001b[0m",
      "\u001b[1;31mRuntimeError\u001b[0m                              Traceback (most recent call last)",
      "Cell \u001b[1;32mIn[8], line 6\u001b[0m\n\u001b[0;32m      1\u001b[0m torch\u001b[38;5;241m.\u001b[39mcuda\u001b[38;5;241m.\u001b[39mempty_cache()\n\u001b[0;32m      3\u001b[0m lstm_model\u001b[38;5;241m.\u001b[39mload_state_dict(torch\u001b[38;5;241m.\u001b[39mload(\u001b[38;5;124m'\u001b[39m\u001b[38;5;124m30e5_lstm_model_weights.pth\u001b[39m\u001b[38;5;124m'\u001b[39m))\n\u001b[1;32m----> 6\u001b[0m output \u001b[38;5;241m=\u001b[39m \u001b[43mlstm_model\u001b[49m\u001b[43m(\u001b[49m\u001b[43mtorch\u001b[49m\u001b[38;5;241;43m.\u001b[39;49m\u001b[43mtensor\u001b[49m\u001b[43m(\u001b[49m\u001b[43mtest_char_sequences\u001b[49m\u001b[43m)\u001b[49m\u001b[43m,\u001b[49m\u001b[43m \u001b[49m\u001b[43mtorch\u001b[49m\u001b[38;5;241;43m.\u001b[39;49m\u001b[43mtensor\u001b[49m\u001b[43m(\u001b[49m\u001b[43mtest_sentences_diacritics_sequences\u001b[49m\u001b[43m)\u001b[49m\u001b[43m,\u001b[49m\u001b[43m \u001b[49m\u001b[43mtorch\u001b[49m\u001b[38;5;241;43m.\u001b[39;49m\u001b[43mtensor\u001b[49m\u001b[43m(\u001b[49m\u001b[43mtest_segment_sequences\u001b[49m\u001b[43m)\u001b[49m\u001b[43m)\u001b[49m\n\u001b[0;32m      8\u001b[0m \u001b[38;5;28mprint\u001b[39m(output\u001b[38;5;241m.\u001b[39mshape)\n",
      "File \u001b[1;32mc:\\Users\\pc\\AppData\\Local\\Programs\\Python\\Python311\\Lib\\site-packages\\torch\\nn\\modules\\module.py:1518\u001b[0m, in \u001b[0;36mModule._wrapped_call_impl\u001b[1;34m(self, *args, **kwargs)\u001b[0m\n\u001b[0;32m   1516\u001b[0m     \u001b[38;5;28;01mreturn\u001b[39;00m \u001b[38;5;28mself\u001b[39m\u001b[38;5;241m.\u001b[39m_compiled_call_impl(\u001b[38;5;241m*\u001b[39margs, \u001b[38;5;241m*\u001b[39m\u001b[38;5;241m*\u001b[39mkwargs)  \u001b[38;5;66;03m# type: ignore[misc]\u001b[39;00m\n\u001b[0;32m   1517\u001b[0m \u001b[38;5;28;01melse\u001b[39;00m:\n\u001b[1;32m-> 1518\u001b[0m     \u001b[38;5;28;01mreturn\u001b[39;00m \u001b[38;5;28;43mself\u001b[39;49m\u001b[38;5;241;43m.\u001b[39;49m\u001b[43m_call_impl\u001b[49m\u001b[43m(\u001b[49m\u001b[38;5;241;43m*\u001b[39;49m\u001b[43margs\u001b[49m\u001b[43m,\u001b[49m\u001b[43m \u001b[49m\u001b[38;5;241;43m*\u001b[39;49m\u001b[38;5;241;43m*\u001b[39;49m\u001b[43mkwargs\u001b[49m\u001b[43m)\u001b[49m\n",
      "File \u001b[1;32mc:\\Users\\pc\\AppData\\Local\\Programs\\Python\\Python311\\Lib\\site-packages\\torch\\nn\\modules\\module.py:1527\u001b[0m, in \u001b[0;36mModule._call_impl\u001b[1;34m(self, *args, **kwargs)\u001b[0m\n\u001b[0;32m   1522\u001b[0m \u001b[38;5;66;03m# If we don't have any hooks, we want to skip the rest of the logic in\u001b[39;00m\n\u001b[0;32m   1523\u001b[0m \u001b[38;5;66;03m# this function, and just call forward.\u001b[39;00m\n\u001b[0;32m   1524\u001b[0m \u001b[38;5;28;01mif\u001b[39;00m \u001b[38;5;129;01mnot\u001b[39;00m (\u001b[38;5;28mself\u001b[39m\u001b[38;5;241m.\u001b[39m_backward_hooks \u001b[38;5;129;01mor\u001b[39;00m \u001b[38;5;28mself\u001b[39m\u001b[38;5;241m.\u001b[39m_backward_pre_hooks \u001b[38;5;129;01mor\u001b[39;00m \u001b[38;5;28mself\u001b[39m\u001b[38;5;241m.\u001b[39m_forward_hooks \u001b[38;5;129;01mor\u001b[39;00m \u001b[38;5;28mself\u001b[39m\u001b[38;5;241m.\u001b[39m_forward_pre_hooks\n\u001b[0;32m   1525\u001b[0m         \u001b[38;5;129;01mor\u001b[39;00m _global_backward_pre_hooks \u001b[38;5;129;01mor\u001b[39;00m _global_backward_hooks\n\u001b[0;32m   1526\u001b[0m         \u001b[38;5;129;01mor\u001b[39;00m _global_forward_hooks \u001b[38;5;129;01mor\u001b[39;00m _global_forward_pre_hooks):\n\u001b[1;32m-> 1527\u001b[0m     \u001b[38;5;28;01mreturn\u001b[39;00m \u001b[43mforward_call\u001b[49m\u001b[43m(\u001b[49m\u001b[38;5;241;43m*\u001b[39;49m\u001b[43margs\u001b[49m\u001b[43m,\u001b[49m\u001b[43m \u001b[49m\u001b[38;5;241;43m*\u001b[39;49m\u001b[38;5;241;43m*\u001b[39;49m\u001b[43mkwargs\u001b[49m\u001b[43m)\u001b[49m\n\u001b[0;32m   1529\u001b[0m \u001b[38;5;28;01mtry\u001b[39;00m:\n\u001b[0;32m   1530\u001b[0m     result \u001b[38;5;241m=\u001b[39m \u001b[38;5;28;01mNone\u001b[39;00m\n",
      "Cell \u001b[1;32mIn[4], line 51\u001b[0m, in \u001b[0;36mChar_model.forward\u001b[1;34m(self, sentences, diacritics_list, segments, h_0, c_0)\u001b[0m\n\u001b[0;32m     49\u001b[0m \u001b[38;5;66;03m#check if h_0 and c_0 are provided or not\u001b[39;00m\n\u001b[0;32m     50\u001b[0m \u001b[38;5;28;01mif\u001b[39;00m h_0 \u001b[38;5;129;01mis\u001b[39;00m \u001b[38;5;28;01mNone\u001b[39;00m \u001b[38;5;129;01mor\u001b[39;00m c_0 \u001b[38;5;129;01mis\u001b[39;00m \u001b[38;5;28;01mNone\u001b[39;00m:\n\u001b[1;32m---> 51\u001b[0m   final_output, (h_0, c_0) \u001b[38;5;241m=\u001b[39m \u001b[38;5;28;43mself\u001b[39;49m\u001b[38;5;241;43m.\u001b[39;49m\u001b[43mlstm\u001b[49m\u001b[43m(\u001b[49m\u001b[43msentences_embedded\u001b[49m\u001b[43m)\u001b[49m\n\u001b[0;32m     52\u001b[0m \u001b[38;5;28;01melse\u001b[39;00m:\n\u001b[0;32m     53\u001b[0m   final_output, _ \u001b[38;5;241m=\u001b[39m \u001b[38;5;28mself\u001b[39m\u001b[38;5;241m.\u001b[39mlstm(sentences_embedded, (h_0, c_0)) \n",
      "File \u001b[1;32mc:\\Users\\pc\\AppData\\Local\\Programs\\Python\\Python311\\Lib\\site-packages\\torch\\nn\\modules\\module.py:1518\u001b[0m, in \u001b[0;36mModule._wrapped_call_impl\u001b[1;34m(self, *args, **kwargs)\u001b[0m\n\u001b[0;32m   1516\u001b[0m     \u001b[38;5;28;01mreturn\u001b[39;00m \u001b[38;5;28mself\u001b[39m\u001b[38;5;241m.\u001b[39m_compiled_call_impl(\u001b[38;5;241m*\u001b[39margs, \u001b[38;5;241m*\u001b[39m\u001b[38;5;241m*\u001b[39mkwargs)  \u001b[38;5;66;03m# type: ignore[misc]\u001b[39;00m\n\u001b[0;32m   1517\u001b[0m \u001b[38;5;28;01melse\u001b[39;00m:\n\u001b[1;32m-> 1518\u001b[0m     \u001b[38;5;28;01mreturn\u001b[39;00m \u001b[38;5;28;43mself\u001b[39;49m\u001b[38;5;241;43m.\u001b[39;49m\u001b[43m_call_impl\u001b[49m\u001b[43m(\u001b[49m\u001b[38;5;241;43m*\u001b[39;49m\u001b[43margs\u001b[49m\u001b[43m,\u001b[49m\u001b[43m \u001b[49m\u001b[38;5;241;43m*\u001b[39;49m\u001b[38;5;241;43m*\u001b[39;49m\u001b[43mkwargs\u001b[49m\u001b[43m)\u001b[49m\n",
      "File \u001b[1;32mc:\\Users\\pc\\AppData\\Local\\Programs\\Python\\Python311\\Lib\\site-packages\\torch\\nn\\modules\\module.py:1527\u001b[0m, in \u001b[0;36mModule._call_impl\u001b[1;34m(self, *args, **kwargs)\u001b[0m\n\u001b[0;32m   1522\u001b[0m \u001b[38;5;66;03m# If we don't have any hooks, we want to skip the rest of the logic in\u001b[39;00m\n\u001b[0;32m   1523\u001b[0m \u001b[38;5;66;03m# this function, and just call forward.\u001b[39;00m\n\u001b[0;32m   1524\u001b[0m \u001b[38;5;28;01mif\u001b[39;00m \u001b[38;5;129;01mnot\u001b[39;00m (\u001b[38;5;28mself\u001b[39m\u001b[38;5;241m.\u001b[39m_backward_hooks \u001b[38;5;129;01mor\u001b[39;00m \u001b[38;5;28mself\u001b[39m\u001b[38;5;241m.\u001b[39m_backward_pre_hooks \u001b[38;5;129;01mor\u001b[39;00m \u001b[38;5;28mself\u001b[39m\u001b[38;5;241m.\u001b[39m_forward_hooks \u001b[38;5;129;01mor\u001b[39;00m \u001b[38;5;28mself\u001b[39m\u001b[38;5;241m.\u001b[39m_forward_pre_hooks\n\u001b[0;32m   1525\u001b[0m         \u001b[38;5;129;01mor\u001b[39;00m _global_backward_pre_hooks \u001b[38;5;129;01mor\u001b[39;00m _global_backward_hooks\n\u001b[0;32m   1526\u001b[0m         \u001b[38;5;129;01mor\u001b[39;00m _global_forward_hooks \u001b[38;5;129;01mor\u001b[39;00m _global_forward_pre_hooks):\n\u001b[1;32m-> 1527\u001b[0m     \u001b[38;5;28;01mreturn\u001b[39;00m \u001b[43mforward_call\u001b[49m\u001b[43m(\u001b[49m\u001b[38;5;241;43m*\u001b[39;49m\u001b[43margs\u001b[49m\u001b[43m,\u001b[49m\u001b[43m \u001b[49m\u001b[38;5;241;43m*\u001b[39;49m\u001b[38;5;241;43m*\u001b[39;49m\u001b[43mkwargs\u001b[49m\u001b[43m)\u001b[49m\n\u001b[0;32m   1529\u001b[0m \u001b[38;5;28;01mtry\u001b[39;00m:\n\u001b[0;32m   1530\u001b[0m     result \u001b[38;5;241m=\u001b[39m \u001b[38;5;28;01mNone\u001b[39;00m\n",
      "File \u001b[1;32mc:\\Users\\pc\\AppData\\Local\\Programs\\Python\\Python311\\Lib\\site-packages\\torch\\nn\\modules\\rnn.py:879\u001b[0m, in \u001b[0;36mLSTM.forward\u001b[1;34m(self, input, hx)\u001b[0m\n\u001b[0;32m    876\u001b[0m         hx \u001b[38;5;241m=\u001b[39m \u001b[38;5;28mself\u001b[39m\u001b[38;5;241m.\u001b[39mpermute_hidden(hx, sorted_indices)\n\u001b[0;32m    878\u001b[0m \u001b[38;5;28;01mif\u001b[39;00m batch_sizes \u001b[38;5;129;01mis\u001b[39;00m \u001b[38;5;28;01mNone\u001b[39;00m:\n\u001b[1;32m--> 879\u001b[0m     result \u001b[38;5;241m=\u001b[39m \u001b[43m_VF\u001b[49m\u001b[38;5;241;43m.\u001b[39;49m\u001b[43mlstm\u001b[49m\u001b[43m(\u001b[49m\u001b[38;5;28;43minput\u001b[39;49m\u001b[43m,\u001b[49m\u001b[43m \u001b[49m\u001b[43mhx\u001b[49m\u001b[43m,\u001b[49m\u001b[43m \u001b[49m\u001b[38;5;28;43mself\u001b[39;49m\u001b[38;5;241;43m.\u001b[39;49m\u001b[43m_flat_weights\u001b[49m\u001b[43m,\u001b[49m\u001b[43m \u001b[49m\u001b[38;5;28;43mself\u001b[39;49m\u001b[38;5;241;43m.\u001b[39;49m\u001b[43mbias\u001b[49m\u001b[43m,\u001b[49m\u001b[43m \u001b[49m\u001b[38;5;28;43mself\u001b[39;49m\u001b[38;5;241;43m.\u001b[39;49m\u001b[43mnum_layers\u001b[49m\u001b[43m,\u001b[49m\n\u001b[0;32m    880\u001b[0m \u001b[43m                      \u001b[49m\u001b[38;5;28;43mself\u001b[39;49m\u001b[38;5;241;43m.\u001b[39;49m\u001b[43mdropout\u001b[49m\u001b[43m,\u001b[49m\u001b[43m \u001b[49m\u001b[38;5;28;43mself\u001b[39;49m\u001b[38;5;241;43m.\u001b[39;49m\u001b[43mtraining\u001b[49m\u001b[43m,\u001b[49m\u001b[43m \u001b[49m\u001b[38;5;28;43mself\u001b[39;49m\u001b[38;5;241;43m.\u001b[39;49m\u001b[43mbidirectional\u001b[49m\u001b[43m,\u001b[49m\u001b[43m \u001b[49m\u001b[38;5;28;43mself\u001b[39;49m\u001b[38;5;241;43m.\u001b[39;49m\u001b[43mbatch_first\u001b[49m\u001b[43m)\u001b[49m\n\u001b[0;32m    881\u001b[0m \u001b[38;5;28;01melse\u001b[39;00m:\n\u001b[0;32m    882\u001b[0m     result \u001b[38;5;241m=\u001b[39m _VF\u001b[38;5;241m.\u001b[39mlstm(\u001b[38;5;28minput\u001b[39m, batch_sizes, hx, \u001b[38;5;28mself\u001b[39m\u001b[38;5;241m.\u001b[39m_flat_weights, \u001b[38;5;28mself\u001b[39m\u001b[38;5;241m.\u001b[39mbias,\n\u001b[0;32m    883\u001b[0m                       \u001b[38;5;28mself\u001b[39m\u001b[38;5;241m.\u001b[39mnum_layers, \u001b[38;5;28mself\u001b[39m\u001b[38;5;241m.\u001b[39mdropout, \u001b[38;5;28mself\u001b[39m\u001b[38;5;241m.\u001b[39mtraining, \u001b[38;5;28mself\u001b[39m\u001b[38;5;241m.\u001b[39mbidirectional)\n",
      "\u001b[1;31mRuntimeError\u001b[0m: [enforce fail at alloc_cpu.cpp:80] data. DefaultCPUAllocator: not enough memory: you tried to allocate 33372880896 bytes."
     ]
    }
   ],
   "source": [
    "\n",
    "torch.cuda.empty_cache()\n",
    "\n",
    "lstm_model.load_state_dict(torch.load('30e5_lstm_model_weights.pth'))\n",
    "\n",
    "\n",
    "output = lstm_model(torch.tensor(test_char_sequences), torch.tensor(test_sentences_diacritics_sequences), torch.tensor(test_segment_sequences))\n",
    "\n",
    "print(output.shape)\n"
   ]
  },
  {
   "cell_type": "markdown",
   "metadata": {},
   "source": [
    "# Extracting max Probabilities\n"
   ]
  },
  {
   "cell_type": "code",
   "execution_count": null,
   "metadata": {},
   "outputs": [],
   "source": [
    "outputs = pickle.load(open(\"./pickles/test_output.pkl\", \"rb\"))\n",
    "\n",
    "print(outputs[0][0])\n",
    "\n",
    "softmax_output = nn.functional.softmax(outputs, dim=-1)\n",
    "print(softmax_output[0][0])\n",
    "\n",
    "# Find the index of the maximum value along the last axis\n",
    "max_arg = torch.argmax(softmax_output, dim=-1)\n",
    "\n",
    "# Add a new dimension at the end to make the shape (2000, 1904, 1)\n",
    "new_tensor = torch.unsqueeze(max_arg, dim=-1)\n",
    "\n",
    "print(new_tensor[0][0])"
   ]
  }
 ],
 "metadata": {
  "kernelspec": {
   "display_name": "base",
   "language": "python",
   "name": "python3"
  },
  "language_info": {
   "codemirror_mode": {
    "name": "ipython",
    "version": 3
   },
   "file_extension": ".py",
   "mimetype": "text/x-python",
   "name": "python",
   "nbconvert_exporter": "python",
   "pygments_lexer": "ipython3",
   "version": "3.11.2"
  }
 },
 "nbformat": 4,
 "nbformat_minor": 2
}
