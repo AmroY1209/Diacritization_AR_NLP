{
 "cells": [
  {
   "cell_type": "code",
   "execution_count": 1,
   "metadata": {},
   "outputs": [
    {
     "name": "stderr",
     "output_type": "stream",
     "text": [
      "e:\\Anaconda\\lib\\site-packages\\scipy\\__init__.py:146: UserWarning: A NumPy version >=1.16.5 and <1.23.0 is required for this version of SciPy (detected version 1.26.2\n",
      "  warnings.warn(f\"A NumPy version >={np_minversion} and <{np_maxversion}\"\n"
     ]
    }
   ],
   "source": [
    "import torch\n",
    "\n",
    "import numpy as np\n",
    "\n",
    "from tqdm import tqdm\n",
    "\n",
    "from torch import nn\n",
    "\n",
    "# Encodes categorical labels into numerical format (used for label preprocessing)\n",
    "from sklearn.preprocessing import LabelEncoder\n",
    "\n",
    "# Calculates the accuracy of a classification model (used for model evaluation)\n",
    "from sklearn.metrics import accuracy_score\n",
    "\n",
    "# Defines a custom dataset class for PyTorch (used for handling data)\n",
    "from torch.utils.data import Dataset\n",
    "\n",
    "# Creates a DataLoader for efficient batch processing in PyTorch (used for data loading)\n",
    "from torch.utils.data import DataLoader\n",
    "\n",
    "# Splits a dataset into training and validation sets (used for data splitting)\n",
    "from torch.utils.data import random_split\n",
    "\n",
    "# Represents a multi-dimensional matrix in PyTorch (used for tensor manipulation)\n",
    "from torch import Tensor\n",
    "\n",
    "# Implements a linear layer in a neural network (used for defining neural network architecture)\n",
    "from torch.nn import Linear\n",
    "\n",
    "# Applies rectified linear unit (ReLU) activation function (used for introducing non-linearity)\n",
    "from torch.nn import ReLU\n",
    "\n",
    "# Applies sigmoid activation function (used for binary classification output)\n",
    "from torch.nn import Sigmoid\n",
    "\n",
    "# Base class for all neural network modules in PyTorch (used for creating custom models)\n",
    "from torch.nn import Module\n",
    "\n",
    "# Stochastic Gradient Descent optimizer (used for model optimization during training)\n",
    "from torch.optim import SGD\n",
    "\n",
    "# Binary Cross Entropy Loss function (used for binary classification problems)\n",
    "from torch.nn import BCELoss\n",
    "\n",
    "# Initializes weights using Kaiming uniform initialization (used for weight initialization)\n",
    "from torch.nn.init import kaiming_uniform_\n",
    "\n",
    "# Initializes weights using Xavier (Glorot) uniform initialization (used for weight initialization)\n",
    "from torch.nn.init import xavier_uniform_"
   ]
  },
  {
   "cell_type": "code",
   "execution_count": 2,
   "metadata": {},
   "outputs": [
    {
     "name": "stdout",
     "output_type": "stream",
     "text": [
      "55618\n"
     ]
    }
   ],
   "source": [
    "import pickle\n",
    "with open('word_sequences.pkl', 'rb') as file:\n",
    "    word_sequences = pickle.load(file)\n",
    "\n",
    "with open('./pickles/char_sequences_without_tashkeel.pkl', 'rb') as file:\n",
    "    char_sequences = pickle.load(file)\n",
    "\n",
    "with open('./pickles/tashkeel_sequences.pkl', 'rb') as file:\n",
    "    labels = pickle.load(file)\n",
    "\n",
    "print(len(word_sequences))"
   ]
  },
  {
   "cell_type": "code",
   "execution_count": 3,
   "metadata": {},
   "outputs": [],
   "source": [
    "# dataset definition\n",
    "# A custom Dataset class must implement three functions: __init__, __len__, and __getitem__.\n",
    "class Dataset(Dataset):\n",
    "    # load the dataset\n",
    "    # The __init__ function is run once when instantiating the Dataset object\n",
    "    def __init__(self):\n",
    "   \n",
    "        self.x = torch.tensor(char_sequences)\n",
    "        self.y = torch.tensor(labels)\n",
    "        self.z = torch.tensor(word_sequences)\n",
    "        print(self.z.shape)\n",
    "    # number of rows in the dataset\n",
    "    # The __len__ function returns the number of samples in our dataset.\n",
    "    def __len__(self):\n",
    "        return len(self.x)\n",
    "\n",
    "    def __getitem__(self, idx):\n",
    "        return self.x[idx], self.y[idx], self.z[idx]\n",
    "\n",
    "    # get indexes for train and test rows\n",
    "    def get_splits(self, n_test=0.33):\n",
    "        # determine sizes\n",
    "        test_size = round(n_test * len(self.x))\n",
    "        train_size = len(self.x) - test_size\n",
    "        # calculate the split\n",
    "        return random_split(self, [train_size, test_size])\n",
    "\n",
    "\n",
    "# # prepare the dataset\n",
    "# def prepare_data():\n",
    "#     # load the dataset\n",
    "#     dataset = CSVDataset()\n",
    "#     # calculate split\n",
    "#     train, test = dataset.get_splits()\n",
    "#     # prepare data loaders\n",
    "#     # The Dataset retrieves our dataset’s features and labels one sample at a time.\n",
    "#     # While training a model, we typically want to pass samples in “minibatches”,\n",
    "#     # reshuffle the data at every epoch to reduce model overfitting,\n",
    "#     train_dl = DataLoader(train, batch_size=32, shuffle=True)\n",
    "#     test_dl = DataLoader(test, batch_size=1024, shuffle=False)\n",
    "#     return dataset.encoding_mapping, train_dl, test_dl"
   ]
  },
  {
   "cell_type": "code",
   "execution_count": 4,
   "metadata": {},
   "outputs": [
    {
     "name": "stdout",
     "output_type": "stream",
     "text": [
      "2592\n",
      "2592\n",
      "torch.Size([55618, 535])\n",
      "torch.Size([64, 2592]) torch.Size([64, 2592]) torch.Size([64, 535]) torch.Size([64, 2592]) torch.Size([64, 2592]) torch.Size([64, 535])\n",
      "tensor([22, 23,  1,  ...,  0,  0,  0], dtype=torch.int32) \n",
      " tensor([2, 5, 2,  ..., 0, 0, 0], dtype=torch.int32)\n"
     ]
    }
   ],
   "source": [
    "#convert labels to numpy array\n",
    "print(len(labels[3]))\n",
    "print(len(char_sequences[3]))\n",
    "train_ds = Dataset()\n",
    "train_dl = torch.utils.data.DataLoader(train_ds, batch_size=64, shuffle=True)\n",
    "\n",
    "dg = iter(train_dl)\n",
    "X1, Y1, z1 = next(dg)\n",
    "X2, Y2, z2 = next(dg)\n",
    "print(Y1.shape, X1.shape, z1.shape, Y2.shape, X2.shape, z2.shape)\n",
    "print(X1[0][:], \"\\n\", Y1[0][:])"
   ]
  },
  {
   "cell_type": "markdown",
   "metadata": {},
   "source": [
    "# Utility functions"
   ]
  },
  {
   "cell_type": "code",
   "execution_count": 5,
   "metadata": {},
   "outputs": [],
   "source": [
    "def concatenate_characters(characters):\n",
    "    # Get the shape of the input tensor\n",
    "    batch_size, sequence_length, feature_size = characters.shape\n",
    "\n",
    "    # Create a tensor of zeros with the same shape as the last subsequence\n",
    "    zeros_tensor = torch.zeros_like(characters[:, 0:1, :])\n",
    "\n",
    "    # Concatenate it to the original tensor along the second dimension\n",
    "    padded_x = torch.cat((characters, zeros_tensor), dim=1)\n",
    "\n",
    "    # Now, padded_x will have zeros padded to the last subsequence\n",
    "\n",
    "    temp1 = padded_x[:, :-1, :]\n",
    "    temp2 = padded_x[:, 1:, :]\n",
    "\n",
    "    # Concatenate along the last dimension\n",
    "    concatenated_characters = torch.cat((temp1, temp2), dim=-1)\n",
    "\n",
    "    return concatenated_characters\n"
   ]
  },
  {
   "cell_type": "markdown",
   "metadata": {},
   "source": [
    "MODEL"
   ]
  },
  {
   "cell_type": "code",
   "execution_count": 6,
   "metadata": {},
   "outputs": [],
   "source": [
    "class Char_model(nn.Module):\n",
    "  def __init__(self, vocab_size=39, embedding_dim=50, hidden_size=50, n_classes=17):\n",
    "    \"\"\"\n",
    "    The constructor of our NER model\n",
    "    Inputs:\n",
    "    - vacab_size: the number of unique words\n",
    "    - embedding_dim: the embedding dimension\n",
    "    - n_classes: the number of final classes (tags)\n",
    "\n",
    "    embedding_dim here: 50 for char embedding + 50 for following char embedding = 100\n",
    "    \"\"\"\n",
    "\n",
    "    super(Char_model, self).__init__()\n",
    "    ####################### TODO: Create the layers of your model #######################################\n",
    "    # (1) Create the embedding layer\n",
    "    self.embedding = nn.Embedding(vocab_size, embedding_dim)\n",
    "\n",
    "    # (2) Create an LSTM layer with hidden size = hidden_size and batch_first = True\n",
    "    self.lstm = nn.LSTM(embedding_dim*2, hidden_size, batch_first=True)\n",
    "    # batch_first makes the input and output tensors to be of shape (batch_size, seq_length, hidden_size)\n",
    "\n",
    "    # (3) Create a linear layer\n",
    "    self.linear = nn.Linear(hidden_size, n_classes)\n",
    "\n",
    "    #####################################################################################################\n",
    "\n",
    "  def forward(self, sentences, h_0=None, c_0=None):\n",
    "    \"\"\"\n",
    "    This function does the forward pass of our model\n",
    "    Inputs:\n",
    "    - sentences: tensor of shape (batch_size, max_length)\n",
    "\n",
    "    Returns:\n",
    "    - final_output: tensor of shape (batch_size, max_length, n_classes)\n",
    "    \"\"\"\n",
    "\n",
    "    final_output = None\n",
    "    #############################################################\n",
    "    sentences_embedded = self.embedding(sentences) \n",
    "    \n",
    "    sentences_embedded = concatenate_characters(sentences_embedded)\n",
    "\n",
    "    #check if h_0 and c_0 are provided or not\n",
    "    if h_0 is None or c_0 is None:\n",
    "      final_output, (h_0, c_0) = self.lstm(sentences_embedded)\n",
    "    else:\n",
    "      final_output, _ = self.lstm(sentences_embedded, (h_0, c_0)) \n",
    "      \n",
    "    final_output = self.linear(final_output)  \n",
    "\n",
    "\n",
    "    ############################################################\n",
    "    return final_output"
   ]
  },
  {
   "cell_type": "code",
   "execution_count": 7,
   "metadata": {},
   "outputs": [],
   "source": [
    "class Word_model(nn.Module):\n",
    "  def __init__(self, vocab_size=2093761, embedding_dim=50, hidden_size=50, n_classes=17):\n",
    "    \"\"\"\n",
    "    The constructor of our NER model\n",
    "    Inputs:\n",
    "    - vacab_size: the number of unique words\n",
    "    - embedding_dim: the embedding dimension\n",
    "    - n_classes: the number of final classes (tags)\n",
    "    \"\"\"\n",
    "    super(Word_model, self).__init__()\n",
    "    ####################### TODO: Create the layers of your model #######################################\n",
    "    # (1) Create the embedding layer\n",
    "    self.embedding = nn.Embedding(vocab_size, embedding_dim)\n",
    "\n",
    "    # (2) Create an LSTM layer with hidden size = hidden_size and batch_first = True\n",
    "    self.rnn = nn.RNN(hidden_size, hidden_size, batch_first=True)\n",
    "    # batch_first makes the input and output tensors to be of shape (batch_size, seq_length, hidden_size)\n",
    "\n",
    "    #####################################################################################################\n",
    "\n",
    "  def forward(self, sentences):\n",
    "    \"\"\"\n",
    "    This function does the forward pass of our model\n",
    "    Inputs:\n",
    "    - sentences: tensor of shape (batch_size, max_length)\n",
    "\n",
    "    Returns:\n",
    "    - final_output: tensor of shape (batch_size, max_length, n_classes)\n",
    "    \"\"\"\n",
    "\n",
    "    final_output = None\n",
    "    ######################### TODO: implement the forward pass ####################################\n",
    "    final_output = self.embedding(sentences) \n",
    "    final_output, h = self.rnn(final_output)   \n",
    "\n",
    "    ###############################################################################################\n",
    "    return final_output, h"
   ]
  },
  {
   "cell_type": "code",
   "execution_count": 8,
   "metadata": {},
   "outputs": [
    {
     "name": "stdout",
     "output_type": "stream",
     "text": [
      "Char_model(\n",
      "  (embedding): Embedding(39, 50)\n",
      "  (lstm): LSTM(100, 50, batch_first=True)\n",
      "  (linear): Linear(in_features=50, out_features=17, bias=True)\n",
      ")\n",
      "Word_model(\n",
      "  (embedding): Embedding(2093761, 50)\n",
      "  (rnn): RNN(50, 50, batch_first=True)\n",
      ")\n"
     ]
    }
   ],
   "source": [
    "lstm_model = Char_model()\n",
    "word_model = Word_model()\n",
    "print(lstm_model)\n",
    "print(word_model)"
   ]
  },
  {
   "cell_type": "markdown",
   "metadata": {},
   "source": [
    "# Training"
   ]
  },
  {
   "cell_type": "code",
   "execution_count": 9,
   "metadata": {},
   "outputs": [],
   "source": [
    "def train(lstm_model, context_model, train_dataset, batch_size=128, epochs=5, learning_rate=0.01):\n",
    "  \"\"\"\n",
    "  This function implements the training logic\n",
    "  Inputs:\n",
    "  - model: the model ot be trained\n",
    "  - train_dataset: the training set of type NERDataset\n",
    "  - batch_size: integer represents the number of examples per step\n",
    "  - epochs: integer represents the total number of epochs (full training pass)\n",
    "  - learning_rate: the learning rate to be used by the optimizer\n",
    "  \"\"\"\n",
    "\n",
    "  # (1) create the dataloader of the training set (make the shuffle=True)\n",
    "  train_dataloader = torch.utils.data.DataLoader(train_dataset, batch_size=batch_size, shuffle=True)\n",
    "\n",
    "  # (2) make the criterion cross entropy loss\n",
    "  criterion = nn.CrossEntropyLoss()\n",
    "\n",
    "  # (3) create the optimizer (Adam)\n",
    "  optimizer = torch.optim.Adam(list(lstm_model.parameters()) + list(context_model.parameters()), lr=learning_rate)\n",
    "  # GPU configuration\n",
    "  use_cuda = torch.cuda.is_available()\n",
    "  device = torch.device(\"cuda\" if use_cuda else \"cpu\")\n",
    "  if use_cuda:\n",
    "    lstm_model = lstm_model.cuda()\n",
    "    context_model = context_model.cuda()\n",
    "    criterion = criterion.cuda()\n",
    "\n",
    "  for epoch_num in range(epochs):\n",
    "    total_acc_train = 0\n",
    "    total_loss_train = 0\n",
    "\n",
    "    for train_input, train_label, train_context in tqdm(train_dataloader):\n",
    "      \n",
    "\n",
    "      # (4) move the train input to the device\n",
    "      train_label = train_label.long().to(device)\n",
    "\n",
    "      # (5) move the train label to the device\n",
    "      train_input = train_input.long().to(device)\n",
    "\n",
    "      train_context = train_context.long().to(device)\n",
    "\n",
    "      # (6) do the forward pass\n",
    "      # context, h_0 = context_model(train_context)\n",
    "      # c_0 = torch.zeros(context.shape[0], 1, context.shape[2])\n",
    "      # h_0 = torch.transpose(h_0, 0, 1)\n",
    "      #h_0 = h_0.permute(1, 0, 2)\n",
    "      #print(h_0.shape)\n",
    "      output = lstm_model(train_input)\n",
    "      \n",
    "      # (7) loss calculation (you need to think in this part how to calculate the loss correctly)\n",
    "      batch_loss = criterion(output.reshape(-1, 17), train_label.reshape(-1))\n",
    "  \n",
    "      # (8) append the batch loss to the total_loss_train\n",
    "      total_loss_train += batch_loss.item()\n",
    "      \n",
    "      # (9) calculate the batch accuracy (just add the number of correct predictions)\n",
    "      acc = (output.argmax(dim=2) == train_label).sum().item()\n",
    "      total_acc_train += acc\n",
    "\n",
    "      # (10) zero your gradients\n",
    "      optimizer.zero_grad()\n",
    "      \n",
    "      # (11) do the backward pass\n",
    "      batch_loss.backward()\n",
    "\n",
    "      # (12) update the weights with your optimizer\n",
    "      optimizer.step()\n",
    "      \n",
    "    # epoch loss\n",
    "    epoch_loss = total_loss_train / len(train_dataset)\n",
    "\n",
    "    # (13) calculate the accuracy\n",
    "    epoch_acc = total_acc_train / (len(train_dataset) * len(train_dataset[0][0]))\n",
    "    # ba2sem 3la 3adad el kalemat fy kol el gomal \n",
    "    # kol gomla asln fyha 104 kelma, fa badrab dh fy 3adad el gomal bs\n",
    "\n",
    "    print(\n",
    "        f'Epochs: {epoch_num + 1} | Train Loss: {epoch_loss} \\\n",
    "        | Train Accuracy: {epoch_acc}\\n')\n",
    "\n",
    "  ##############################################################################################################"
   ]
  },
  {
   "cell_type": "code",
   "execution_count": 10,
   "metadata": {},
   "outputs": [
    {
     "name": "stdout",
     "output_type": "stream",
     "text": [
      "torch.Size([55618, 535])\n"
     ]
    },
    {
     "name": "stderr",
     "output_type": "stream",
     "text": [
      "100%|██████████| 435/435 [01:19<00:00,  5.48it/s]\n"
     ]
    },
    {
     "name": "stdout",
     "output_type": "stream",
     "text": [
      "Epochs: 1 | Train Loss: 0.0005519845583523515         | Train Accuracy: 0.9798855877660176\n",
      "\n"
     ]
    },
    {
     "name": "stderr",
     "output_type": "stream",
     "text": [
      "100%|██████████| 435/435 [01:21<00:00,  5.32it/s]\n"
     ]
    },
    {
     "name": "stdout",
     "output_type": "stream",
     "text": [
      "Epochs: 2 | Train Loss: 0.00022745948777702825         | Train Accuracy: 0.9901957560812757\n",
      "\n"
     ]
    },
    {
     "name": "stderr",
     "output_type": "stream",
     "text": [
      "100%|██████████| 435/435 [01:18<00:00,  5.54it/s]\n"
     ]
    },
    {
     "name": "stdout",
     "output_type": "stream",
     "text": [
      "Epochs: 3 | Train Loss: 0.00018735285358085975         | Train Accuracy: 0.9918260070125623\n",
      "\n"
     ]
    },
    {
     "name": "stderr",
     "output_type": "stream",
     "text": [
      "100%|██████████| 435/435 [01:18<00:00,  5.53it/s]\n"
     ]
    },
    {
     "name": "stdout",
     "output_type": "stream",
     "text": [
      "Epochs: 4 | Train Loss: 0.0001700609669090925         | Train Accuracy: 0.9925205666053578\n",
      "\n"
     ]
    },
    {
     "name": "stderr",
     "output_type": "stream",
     "text": [
      "100%|██████████| 435/435 [01:18<00:00,  5.52it/s]"
     ]
    },
    {
     "name": "stdout",
     "output_type": "stream",
     "text": [
      "Epochs: 5 | Train Loss: 0.0001595290007169574         | Train Accuracy: 0.9929265200359241\n",
      "\n"
     ]
    },
    {
     "name": "stderr",
     "output_type": "stream",
     "text": [
      "\n"
     ]
    }
   ],
   "source": [
    "train_dataset = Dataset()\n",
    "train(lstm_model, word_model, train_dataset)"
   ]
  },
  {
   "cell_type": "code",
   "execution_count": 11,
   "metadata": {},
   "outputs": [
    {
     "name": "stdout",
     "output_type": "stream",
     "text": [
      "tensor([[[ 1,  2,  3],\n",
      "         [ 4,  5,  6],\n",
      "         [66, 55, 77],\n",
      "         [ 0,  0,  0]],\n",
      "\n",
      "        [[ 7,  8,  9],\n",
      "         [10, 11, 12],\n",
      "         [13, 14, 15],\n",
      "         [ 0,  0,  0]]])\n"
     ]
    }
   ],
   "source": [
    "\n",
    "x = torch.tensor([\n",
    "    [[1, 2, 3], [4, 5, 6], [66, 55, 77]], \n",
    "    [[7, 8, 9], [10, 11, 12], [13, 14, 15]]\n",
    "])\n",
    "\n",
    "# Get the shape of the input tensor\n",
    "batch_size, sequence_length, feature_size = x.shape\n",
    "\n",
    "# Create a tensor of zeros with the same shape as the last subsequence\n",
    "zeros_tensor = torch.zeros_like(x[:, 0:1, :])\n",
    "\n",
    "# Concatenate it to the original tensor along the second dimension\n",
    "padded_x = torch.cat((x, zeros_tensor), dim=1)\n",
    "\n",
    "# Now, padded_x will have zeros padded to the last subsequence\n",
    "print(padded_x)"
   ]
  },
  {
   "cell_type": "code",
   "execution_count": 12,
   "metadata": {},
   "outputs": [
    {
     "name": "stdout",
     "output_type": "stream",
     "text": [
      "torch.Size([2, 3, 3])\n",
      "torch.Size([2, 3, 3])\n",
      "torch.Size([2, 3, 3])\n",
      "torch.Size([2, 3, 6])\n",
      "tensor([[[ 1,  2,  3,  4,  5,  6],\n",
      "         [ 4,  5,  6, 66, 55, 77],\n",
      "         [66, 55, 77,  0,  0,  0]],\n",
      "\n",
      "        [[ 7,  8,  9, 10, 11, 12],\n",
      "         [10, 11, 12, 13, 14, 15],\n",
      "         [13, 14, 15,  0,  0,  0]]])\n"
     ]
    }
   ],
   "source": [
    "print(x.shape)\n",
    "y = padded_x[:,:-1,:]\n",
    "z = padded_x[:,1:,:]\n",
    "\n",
    "print(y.shape)\n",
    "print(z.shape)\n",
    "\n",
    "k = torch.cat((y, z), dim=-1)\n",
    "\n",
    "\n",
    "print(k.shape)\n",
    "print(k)\n",
    "\n",
    "\n",
    "# tensor([[[ 1,  2,  3,  4,  5,  6],\n",
    "#          [ 4,  5,  6, 66, 55, 77]\n",
    "#          [66, 55, 77,  0,  0,  0]],\n",
    "\n",
    "#         [[ 7,  8,  9, 10, 11, 12],\n",
    "#          [10, 11, 12, 13, 14, 15]\n",
    "#          [13, 14, 15,  0,  0,  0]])"
   ]
  },
  {
   "cell_type": "code",
   "execution_count": null,
   "metadata": {},
   "outputs": [],
   "source": []
  },
  {
   "cell_type": "markdown",
   "metadata": {},
   "source": [
    "# Evaluation"
   ]
  },
  {
   "cell_type": "code",
   "execution_count": 13,
   "metadata": {},
   "outputs": [],
   "source": [
    "def evaluate(model, test_dataset, batch_size=512):\n",
    "  \"\"\"\n",
    "  This function takes a NER model and evaluates its performance (accuracy) on a test data\n",
    "  Inputs:\n",
    "  - model: a NER model\n",
    "  - test_dataset: dataset of type NERDataset\n",
    "  \"\"\"\n",
    "  ########################### TODO: Replace the Nones in the following code ##########################\n",
    "\n",
    "  # (1) create the test data loader\n",
    "  test_dataloader = torch.utils.data.DataLoader(test_dataset, batch_size=batch_size)\n",
    "\n",
    "  # GPU Configuration\n",
    "  use_cuda = torch.cuda.is_available()\n",
    "  device = torch.device(\"cuda\" if use_cuda else \"cpu\")\n",
    "  if use_cuda:\n",
    "    model = model.cuda()\n",
    "\n",
    "  total_acc_test = 0\n",
    "  \n",
    "  # (2) disable gradients\n",
    "  with torch.no_grad():\n",
    "    # 3mlna disable 3lshan e7na bn-predict (aw evaluate y3ny) b2a dlw2ty, msh bn-train\n",
    "\n",
    "    for test_input, test_label in tqdm(test_dataloader):\n",
    "      # (3) move the test input to the device\n",
    "      test_label = test_label.to(device)\n",
    "\n",
    "      # (4) move the test label to the device\n",
    "      test_input = test_input.to(device)\n",
    "      # brdo the comments should be reversed \n",
    "\n",
    "      # (5) do the forward pass\n",
    "      output = model(test_input)\n",
    "\n",
    "      # accuracy calculation (just add the correct predicted items to total_acc_test)\n",
    "      acc = (output.argmax(dim=2) == test_label).sum().item()\n",
    "      total_acc_test += acc\n",
    "    \n",
    "    # (6) calculate the over all accuracy\n",
    "    total_acc_test /= (len(test_dataset) * len(test_dataset[0][0]))\n",
    "  ##################################################################################################\n",
    "\n",
    "  \n",
    "  print(f'\\nTest Accuracy: {total_acc_test}')"
   ]
  },
  {
   "cell_type": "code",
   "execution_count": null,
   "metadata": {},
   "outputs": [],
   "source": []
  }
 ],
 "metadata": {
  "kernelspec": {
   "display_name": "base",
   "language": "python",
   "name": "python3"
  },
  "language_info": {
   "codemirror_mode": {
    "name": "ipython",
    "version": 3
   },
   "file_extension": ".py",
   "mimetype": "text/x-python",
   "name": "python",
   "nbconvert_exporter": "python",
   "pygments_lexer": "ipython3",
   "version": "3.9.12"
  }
 },
 "nbformat": 4,
 "nbformat_minor": 2
}
